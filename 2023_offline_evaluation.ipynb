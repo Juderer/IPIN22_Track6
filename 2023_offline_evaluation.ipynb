{
 "cells": [
  {
   "cell_type": "markdown",
   "id": "3acae92b",
   "metadata": {},
   "source": [
    "- DOING\n",
    "    - 使用`./trial`目录下的txt文件模拟流程（可以按GNSS时间戳判断是否缺数据）"
   ]
  },
  {
   "cell_type": "code",
   "execution_count": 1,
   "id": "af355f77",
   "metadata": {},
   "outputs": [],
   "source": [
    "import sys\n",
    "import requests\n",
    "import numpy as np\n",
    "import torch\n",
    "import time\n",
    "import copy\n",
    "import importlib\n",
    "from parse import parse"
   ]
  },
  {
   "cell_type": "code",
   "execution_count": 2,
   "id": "a8e2aec9",
   "metadata": {},
   "outputs": [],
   "source": [
    "sys.path.append('./')\n",
    "from spd_dnn import *\n",
    "from data_struct import *\n",
    "from ftr_generator import *\n",
    "from coord_utils import *"
   ]
  },
  {
   "cell_type": "code",
   "execution_count": null,
   "id": "9d25e1c6",
   "metadata": {},
   "outputs": [],
   "source": []
  },
  {
   "cell_type": "markdown",
   "id": "5525b6ee",
   "metadata": {},
   "source": [
    "# 算法流程"
   ]
  },
  {
   "cell_type": "markdown",
   "id": "d51a5e8e",
   "metadata": {},
   "source": [
    "## 航向推算"
   ]
  },
  {
   "cell_type": "markdown",
   "id": "9c14be5c",
   "metadata": {},
   "source": [
    "### 积分\n",
    "\n",
    "- 数据投影、IMU零漂计算参考`2023_test_data_inference.ipynb`脚本（赛事方说测试数据与比赛数据的手机姿态是一致的）\n",
    "- 因为比赛前半段会给相当时长的带有GNSS的数据，所以后续可以实现实时计算投影矩阵与估算IMU零漂"
   ]
  },
  {
   "cell_type": "code",
   "execution_count": 3,
   "id": "50705a46",
   "metadata": {},
   "outputs": [],
   "source": [
    "# def infer_bearing_via_integration(sec_gyro_unit_list, crnt_brng, collect_hz=250):\n",
    "#     gy_ys = [u.sen_y for u in sec_gyro_unit_list]\n",
    "#     bearing_diff = np.sum(gy_ys) / len(gy_ys) * -1.0\n",
    "#     return (crnt_brng + bearing_diff) % 360.0\n",
    "\n",
    "\n",
    "# def infer_bearing_via_model(sec_acc_unit_list, sec_gyro_unit_list, crnt_spd, crnt_brng, \n",
    "#                             model=None, ftr_gen=None, collect_hz=250):\n",
    "#     sec_acc_unit_list = calibrate_sample_freq(sec_acc_unit_list, collect_hz=collect_hz)\n",
    "#     sec_gyro_unit_lis = calibrate_sample_freq(sec_gyro_unit_list, collect_hz=collect_hz)\n",
    "#     acc_ftr_list = ftr_gen.calc_imu_sec_ftr(sec_acc_unit_list)\n",
    "#     gy_ftr_list = ftr_gen.calc_imu_sec_ftr(sec_gyro_unit_lis)\n",
    "\n",
    "#     acc = torch.tensor([[acc_ftr_list]], dtype=torch.float).permute(0, 2, 1)\n",
    "#     gy = torch.tensor([[gy_ftr_list]], dtype=torch.float).permute(0, 2, 1)\n",
    "#     init_spd = torch.tensor([[[crnt_spd]]], dtype=torch.float)\n",
    "#     init_brng = torch.tensor([[[crnt_brng]]], dtype=torch.float)\n",
    "#     pred = model(acc, gy, init_spd=init_spd, init_brng=init_brng)\n",
    "#     brng_diff = pred.cpu().detach().squeeze().numpy().tolist()[1]\n",
    "    \n",
    "#     return (crnt_brng + brng_diff) % 360\n",
    "\n",
    "\n",
    "# def infer_bearing(sec_acc_unit_list, sec_gyro_unit_list, crnt_spd, crnt_brng, \n",
    "#                   model=None, ftr_gen=None, collect_hz=250):\n",
    "#     integration_brng = infer_bearing_via_integration(sec_gyro_unit_list, crnt_brng, collect_hz=collect_hz)\n",
    "    \n",
    "#     return integration_brng\n",
    "\n",
    "\n",
    "# def infer_bearing(sec_gyro_unit_list, crnt_brng, collect_hz=250, drift=0):\n",
    "#     drift = -0.012397165517337367\n",
    "#     gy_ys = [(u.sen_y - drift) for u in sec_gyro_unit_list]\n",
    "#     bearing_diff = np.sum(gy_ys) / len(gy_ys) * -1.0\n",
    "#     return (crnt_brng + bearing_diff) % 360.0"
   ]
  },
  {
   "cell_type": "code",
   "execution_count": 4,
   "id": "04bdabdb",
   "metadata": {},
   "outputs": [],
   "source": [
    "def project_gyro(obj, X=None, Y=None, Z=None):\n",
    "    prj_ax = np.dot(np.array([obj.sen_x, obj.sen_y, obj.sen_z]), X)\n",
    "    prj_ay = np.dot(np.array([obj.sen_x, obj.sen_y, obj.sen_z]), Y)\n",
    "    prj_az = np.dot(np.array([obj.sen_x, obj.sen_y, obj.sen_z]), Z)\n",
    "\n",
    "    prj_obj = copy.deepcopy(obj)\n",
    "    prj_obj.gyr_x = prj_ax\n",
    "    prj_obj.gyr_y = prj_ay\n",
    "    prj_obj.gyr_z = prj_az\n",
    "\n",
    "    return prj_obj\n",
    "\n",
    "\n",
    "def infer_bearing(sec_gyro_unit_list, crnt_brng, collect_hz=250, drift=0):\n",
    "    X = [-9.99832515e-01, 3.88289583e-04, -1.82972810e-02] \n",
    "    Y = [-0.01773261, -0.2678686, 0.96329226] \n",
    "    Z = [-0.00462569, 0.96195208, 0.27317907]\n",
    "#     drift = -0.00032083975943054683\n",
    "    drift = -0.011834270481663509\n",
    "    \n",
    "    prj_gyro_unit_list = [project_gyro(u, X=X, Y=Y, Z=Z) for u in sec_gyro_unit_list]\n",
    "    gy_zs = [(u.gyr_z - drift) for u in prj_gyro_unit_list]\n",
    "    bearing_diff = np.sum(gy_zs) / len(gy_zs) * -1.0\n",
    "    return (crnt_brng + bearing_diff) % 360.0"
   ]
  },
  {
   "cell_type": "code",
   "execution_count": null,
   "id": "2f95ce19",
   "metadata": {},
   "outputs": [],
   "source": []
  },
  {
   "cell_type": "markdown",
   "id": "8a9fd323",
   "metadata": {},
   "source": [
    "## 速度推算（LSTM）"
   ]
  },
  {
   "cell_type": "code",
   "execution_count": 5,
   "id": "e1fd6e9e",
   "metadata": {},
   "outputs": [
    {
     "name": "stdout",
     "output_type": "stream",
     "text": [
      "Load trained model: ./spd_dnn_weight_ftrHz25.pt\n"
     ]
    }
   ],
   "source": [
    "ftr_hz = 25\n",
    "collect_hz = 250\n",
    "\n",
    "model = load_spd_dnn(trained_model='./spd_dnn_weight_ftrHz%d.pt' % ftr_hz,\n",
    "                     ftr_hz=ftr_hz, collect_hz=collect_hz)\n",
    "model.eval()\n",
    "\n",
    "ftr_gen = ftrGenerator(ftr_hz=ftr_hz, collect_hz=collect_hz)"
   ]
  },
  {
   "cell_type": "code",
   "execution_count": 6,
   "id": "647d4cd1",
   "metadata": {},
   "outputs": [],
   "source": [
    "def calibrate_sample_freq(imu_unit_list, collect_hz=250):\n",
    "    if len(imu_unit_list) < collect_hz:\n",
    "        imu_unit_list.extend([copy.deepcopy(imu_unit_list[-1])] * (collect_hz - len(imu_unit_list)))\n",
    "    elif len(imu_unit_list) > collect_hz:\n",
    "        imu_unit_list = imu_unit_list[-collect_hz:]\n",
    "    else:\n",
    "        pass\n",
    "    return imu_unit_list\n",
    "\n",
    "\n",
    "def infer_speed(sec_acc_unit_list, sec_gyro_unit_list, crnt_spd, crnt_brng,\n",
    "                model=None, ftr_gen=None, collect_hz=250):\n",
    "    sec_acc_unit_list = calibrate_sample_freq(sec_acc_unit_list, collect_hz=collect_hz)\n",
    "    sec_gyro_unit_lis = calibrate_sample_freq(sec_gyro_unit_list, collect_hz=collect_hz)\n",
    "    acc_ftr_list = ftr_gen.calc_imu_sec_ftr(sec_acc_unit_list)\n",
    "    gy_ftr_list = ftr_gen.calc_imu_sec_ftr(sec_gyro_unit_lis)\n",
    "\n",
    "    acc = torch.tensor([[acc_ftr_list]], dtype=torch.float).permute(0, 2, 1)\n",
    "    gy = torch.tensor([[gy_ftr_list]], dtype=torch.float).permute(0, 2, 1)\n",
    "    init_spd = torch.tensor([[[crnt_spd]]], dtype=torch.float)\n",
    "    init_brng = torch.tensor([[[crnt_brng]]], dtype=torch.float)\n",
    "    pred = model(acc, gy, init_spd=init_spd, init_brng=init_brng)\n",
    "    spd_diff = pred.cpu().detach().squeeze().numpy().tolist()[0]\n",
    "\n",
    "    return max(0.0, min(15.0, crnt_spd + spd_diff))"
   ]
  },
  {
   "cell_type": "markdown",
   "id": "89fc3bd9",
   "metadata": {},
   "source": [
    "## 速度推算（OBD）\n",
    "\n",
    "- **Trick**\n",
    "    - `*0.80`减小OBD车速变相约束误差发散\n",
    "    - 不严谨，需更多验证"
   ]
  },
  {
   "cell_type": "code",
   "execution_count": 7,
   "id": "3875b69d",
   "metadata": {},
   "outputs": [],
   "source": [
    "# def infer_speed_via_obd(obd_unit_list, crnt_spd=None):\n",
    "#     obd_spds = [u.vehicle_speed for u in obd_unit_list]\n",
    "#     spd = np.sum(obd_spds) / len(obd_spds) * 1.0\n",
    "#     return max(-1, min(15, spd * 0.8))\n",
    "\n",
    "\n",
    "def infer_speed_via_obd(obd_unit_list, crnt_spd=None):\n",
    "    obd_spds = [u.vehicle_speed for u in obd_unit_list]\n",
    "    spd = np.sum(obd_spds) / len(obd_spds) * 1.0\n",
    "    return max(-1, min(15, spd * 0.8))"
   ]
  },
  {
   "cell_type": "code",
   "execution_count": null,
   "id": "42ab6914",
   "metadata": {},
   "outputs": [],
   "source": []
  },
  {
   "cell_type": "markdown",
   "id": "c704ce44",
   "metadata": {},
   "source": [
    "## 速度推算（积分）"
   ]
  },
  {
   "cell_type": "code",
   "execution_count": 8,
   "id": "6b2e495f",
   "metadata": {},
   "outputs": [],
   "source": [
    "def project_acce(obj, X=None, Y=None, Z=None):\n",
    "    prj_ax = np.dot(np.array([obj.sen_x, obj.sen_y, obj.sen_z]), X)\n",
    "    prj_ay = np.dot(np.array([obj.sen_x, obj.sen_y, obj.sen_z]), Y)\n",
    "    prj_az = np.dot(np.array([obj.sen_x, obj.sen_y, obj.sen_z]), Z)\n",
    "\n",
    "    prj_obj = copy.deepcopy(obj)\n",
    "    prj_obj.acc_x = prj_ax\n",
    "    prj_obj.acc_y = prj_ay\n",
    "    prj_obj.acc_z = prj_az\n",
    "\n",
    "    return prj_obj\n",
    "\n",
    "\n",
    "def infer_speed_diff_via_integration(acce_unit_list, crnt_spd):\n",
    "    X = [-9.99832515e-01, 3.88289583e-04, -1.82972810e-02] \n",
    "    Y = [-0.01773261, -0.2678686, 0.96329226] \n",
    "    Z = [-0.00462569, 0.96195208, 0.27317907]\n",
    "#     drift = 0.06431939105769646\n",
    "    drift = 0.054283966428103465\n",
    "    \n",
    "    prj_acce_unit_list = [project_acce(u, X=X, Y=Y, Z=Z) for u in acce_unit_list]\n",
    "    prj_ys = [(u.acc_y - drift) for u in prj_acce_unit_list]\n",
    "    spd_diff = np.sum(prj_ys) / len(prj_ys) * -1.0\n",
    "    return spd_diff"
   ]
  },
  {
   "cell_type": "code",
   "execution_count": null,
   "id": "13c81d2b",
   "metadata": {},
   "outputs": [],
   "source": []
  },
  {
   "cell_type": "markdown",
   "id": "613ecb21",
   "metadata": {},
   "source": [
    "## 速度推算（加权）"
   ]
  },
  {
   "cell_type": "code",
   "execution_count": 9,
   "id": "6818bcee",
   "metadata": {},
   "outputs": [],
   "source": [
    "def infer_speed_via_multi(acce_unit_list, obd_unit_list, crnt_spd):\n",
    "    acce_spd_diff = infer_speed_diff_via_integration(acce_unit_list, crnt_spd)\n",
    "    obd_spd = infer_speed_via_obd(obd_unit_list)\n",
    "    \n",
    "    if obd_spd < 1e-4 and acce_spd_diff < 0:\n",
    "        spd = acce_spd_diff\n",
    "    else:\n",
    "        spd = obd_spd\n",
    "    return spd"
   ]
  },
  {
   "cell_type": "code",
   "execution_count": null,
   "id": "ffa17376",
   "metadata": {},
   "outputs": [],
   "source": []
  },
  {
   "cell_type": "markdown",
   "id": "fcda793e",
   "metadata": {},
   "source": [
    "# 服务端配置及请求"
   ]
  },
  {
   "cell_type": "markdown",
   "id": "1e20cde7",
   "metadata": {},
   "source": [
    "## ATTETION\n",
    "\n",
    "- 比赛数据无法reload，且需要我们严格按照间隔**一秒**请求\n",
    "- 可以在本地**yaml**配置文件中将**reloadable**字段修改为**False**，模拟比赛环境"
   ]
  },
  {
   "cell_type": "markdown",
   "id": "68232333",
   "metadata": {},
   "source": [
    "## 配置"
   ]
  },
  {
   "cell_type": "markdown",
   "id": "321e9304",
   "metadata": {},
   "source": [
    "- 正式比赛配置"
   ]
  },
  {
   "cell_type": "code",
   "execution_count": 25,
   "id": "708c9faf",
   "metadata": {},
   "outputs": [],
   "source": [
    "# server = 'http://121.196.218.26/evaalapi/'\n",
    "# trialname = 'S623b14b068102'\n",
    "\n",
    "# estfmt = \"{pts:.3f},{c:.3f},{h:.3f},{s:.3f},{pos}\"\n",
    "# statefmt = \"{trialts:.3f},{rem:.3f},{V:.3f},{S:.3f},{p:.3f},{h:.3f},{pts:.3f},{pos}\""
   ]
  },
  {
   "cell_type": "markdown",
   "id": "0e752e15",
   "metadata": {},
   "source": [
    "- 使用官方服务器测试"
   ]
  },
  {
   "cell_type": "code",
   "execution_count": 11,
   "id": "a76ad497",
   "metadata": {},
   "outputs": [],
   "source": [
    "# server = 'http://121.196.218.26/evaalapi/'\n",
    "# trialname = 'T623412f0da401'\n",
    "\n",
    "# estfmt = \"{pts:.3f},{c:.3f},{h:.3f},{s:.3f},{pos}\"\n",
    "# statefmt = \"{trialts:.3f},{rem:.3f},{V:.3f},{S:.3f},{p:.3f},{h:.3f},{pts:.3f},{pos}\""
   ]
  },
  {
   "cell_type": "markdown",
   "id": "f4ce60a1",
   "metadata": {},
   "source": [
    "- 使用本地服务器测试"
   ]
  },
  {
   "cell_type": "code",
   "execution_count": 21,
   "id": "3c44cd8b",
   "metadata": {},
   "outputs": [],
   "source": [
    "server = 'http://127.0.0.1:5000/evaalapi/'\n",
    "trialname = 'demo2023'\n",
    "\n",
    "estfmt = \"{pts:.3f},{c:.3f},{h:.3f},{s:.3f},{pos}\"\n",
    "statefmt = \"{trialts:.3f},{rem:.3f},{V:.3f},{S:.3f},{p:.3f},{h:.3f},{pts:.3f},{pos}\""
   ]
  },
  {
   "cell_type": "code",
   "execution_count": 12,
   "id": "26ad2e1a",
   "metadata": {},
   "outputs": [],
   "source": [
    "def do_state():\n",
    "    r = requests.get(server + trialname + '/state')\n",
    "    print(r.text)\n",
    "    s = parse(statefmt, r.text)\n",
    "    return s.named\n",
    "    \n",
    "    \n",
    "def do_reload():\n",
    "    r = requests.get(server + trialname + '/reload')\n",
    "    s = parse(statefmt, r.text)\n",
    "    print(s.named)"
   ]
  },
  {
   "cell_type": "code",
   "execution_count": 13,
   "id": "f68022fe",
   "metadata": {},
   "outputs": [],
   "source": [
    "def parse_response(text):\n",
    "    sen_str_list = text.splitlines()\n",
    "    acc_unit_list, gy_unit_list = [], []\n",
    "    obd_unit_list = []\n",
    "    gnss_unit = None\n",
    "    for sen_str in sen_str_list:\n",
    "        if sen_str.startswith('ACCE'):\n",
    "            acc_unit_list.append(acceUnit(sen_str))\n",
    "        elif sen_str.startswith('GYRO'):\n",
    "            gy_unit_list.append(gyroUnit(sen_str))\n",
    "        elif sen_str.startswith('GNSS'):\n",
    "            gnss_unit = gnssUnit(sen_str)\n",
    "        elif sen_str.startswith('OBD'):\n",
    "            obd_unit_list.append(obdUnit(sen_str))\n",
    "        else:\n",
    "            continue\n",
    "    return acc_unit_list, gy_unit_list, obd_unit_list, gnss_unit\n",
    "\n",
    "\n",
    "def estimate_next_loc(acc_unit_list, gy_unit_list, obd_unit_list, gnss_unit, \n",
    "                      model=None, ftr_gen=None, ftr_hz=50, collect_hz=250):\n",
    "    crnt_brng = gnss_unit.bearing\n",
    "    crnt_spd = gnss_unit.loc_speed\n",
    "    if crnt_spd < 0:\n",
    "        crnt_spd = gnss_unit.speed\n",
    "    \n",
    "    next_brng = infer_bearing(gy_unit_list, crnt_brng, \n",
    "                              collect_hz=collect_hz)\n",
    "    \n",
    "    if len(obd_unit_list) > 10:\n",
    "#         next_spd = infer_speed_via_obd(obd_unit_list)\n",
    "        next_spd = infer_speed_via_multi(acc_unit_list, obd_unit_list, crnt_spd)\n",
    "    else:\n",
    "        next_spd = infer_speed(acc_unit_list, gy_unit_list, crnt_spd, crnt_brng, \n",
    "                               model=model, ftr_gen=ftr_gen, collect_hz=collect_hz)\n",
    "\n",
    "    next_lng, next_lat = geo_util.position_from_angle_and_dist(gnss_unit.lng, gnss_unit.lat, \n",
    "                                                               next_brng, next_spd)\n",
    "    return next_lng, next_lat, next_spd, next_brng\n",
    "\n",
    "\n",
    "def estimate_next_loc_by_pred(acc_unit_list, gy_unit_list, obd_unit_list, pred_loc, \n",
    "                              model=None, ftr_gen=None, ftr_hz=25, collect_hz=250):\n",
    "    crnt_lng, crnt_lat, crnt_spd, crnt_brng = pred_loc\n",
    "    \n",
    "    next_brng = infer_bearing(gy_unit_list, crnt_brng, \n",
    "                              collect_hz=collect_hz)\n",
    "    \n",
    "    if len(obd_unit_list) > 10:\n",
    "#         next_spd = infer_speed_via_obd(obd_unit_list)\n",
    "        next_spd = infer_speed_via_multi(acc_unit_list, obd_unit_list, crnt_spd)\n",
    "    else:\n",
    "        next_spd = infer_speed(acc_unit_list, gy_unit_list, crnt_spd, crnt_brng, \n",
    "                               model=model, ftr_gen=ftr_gen, collect_hz=collect_hz)\n",
    "    \n",
    "    next_lng, next_lat = geo_util.position_from_angle_and_dist(crnt_lng, crnt_lat, \n",
    "                                                               next_brng, next_spd)\n",
    "    return next_lng, next_lat, next_spd, next_brng\n",
    "    \n",
    "    \n",
    "def estimate_next_loc_by_dft(crnt_lng, crnt_lat, crnt_spd, crnt_brng):\n",
    "    next_brng, next_spd = crnt_brng, crnt_spd\n",
    "    next_lng, next_lat = geo_util.position_from_angle_and_dist(crnt_lng, crnt_lat, \n",
    "                                                               next_brng, next_spd)\n",
    "    return next_lng, next_lat, next_spd, next_brng\n",
    "    "
   ]
  },
  {
   "cell_type": "code",
   "execution_count": 14,
   "id": "08a01953",
   "metadata": {},
   "outputs": [],
   "source": [
    "# do_reload()"
   ]
  },
  {
   "cell_type": "code",
   "execution_count": 15,
   "id": "b9075843",
   "metadata": {},
   "outputs": [],
   "source": [
    "# s = do_state()\n",
    "# print(s)"
   ]
  },
  {
   "cell_type": "code",
   "execution_count": 16,
   "id": "3574f31b",
   "metadata": {},
   "outputs": [],
   "source": [
    "# r = requests.get(server + trialname + '/estimates')\n",
    "# print(r.text)"
   ]
  },
  {
   "cell_type": "code",
   "execution_count": 17,
   "id": "32ef0742",
   "metadata": {
    "scrolled": false
   },
   "outputs": [],
   "source": [
    "# r = requests.get(server + trialname + '/nextdata?horizon=1.0&position=0,0,0')\n",
    "# print(r.text)\n",
    "\n",
    "# r = requests.get(server + trialname + '/log')\n",
    "# print(r.text)"
   ]
  },
  {
   "cell_type": "code",
   "execution_count": 18,
   "id": "3fef44ae",
   "metadata": {},
   "outputs": [],
   "source": [
    "# 注意time.sleep"
   ]
  },
  {
   "cell_type": "code",
   "execution_count": null,
   "id": "f18cab9f",
   "metadata": {
    "scrolled": true
   },
   "outputs": [],
   "source": [
    "init_pos = None  # 车辆初始位置\n",
    "altitude = 0.0  # 高程\n",
    "pre_gnss = None  # 上一时刻GNSS\n",
    "pred_loc = None\n",
    "next_position = None\n",
    "gt_gnss_unit_list = []\n",
    "\n",
    "sec_cnt = 0\n",
    "request_arr = []\n",
    "\n",
    "# do_reload()  # 正式比赛需要注释\n",
    "while True:\n",
    "    s = do_state()\n",
    "    if s['trialts'] == 0.0:\n",
    "        print('testing start...')\n",
    "        try:\n",
    "            lat, lng, altitude = [float(x) for x in s['pos'].split(',')]\n",
    "        except ValueError as e:\n",
    "            lat, lng, altitude = [float(x) for x in s['pos'].split(';')]\n",
    "        init_pos = [lng, lat]\n",
    "    elif s['trialts'] < 0:\n",
    "        print('testing timeout...')\n",
    "        break\n",
    "    else:\n",
    "        pass\n",
    "    \n",
    "    if next_position is None:\n",
    "        r = requests.get(server + trialname + '/nextdata?horizon=1.0')\n",
    "    else:\n",
    "        r = requests.get(server + trialname + \\\n",
    "                         '/nextdata?horizon=1.0&position=%s,%.1f' % (next_position, altitude))\n",
    "    \n",
    "    acc_unit_list, gy_unit_list, obd_unit_list, gnss_unit = parse_response(r.text)\n",
    "    \n",
    "#     request_arr.append(r.text.splitlines())\n",
    "    if gnss_unit is None:\n",
    "        print(len(acc_unit_list))\n",
    "        print(len(gy_unit_list))\n",
    "        \n",
    "    if gnss_unit is not None:\n",
    "        gt_gnss_unit_list.append(gnss_unit)\n",
    "        \n",
    "    if len(acc_unit_list) < 10 and gnss_unit is None:\n",
    "        if pre_gnss is not None:\n",
    "            lng, lat, spd, brng = pre_gnss.lng, pre_gnss.lat, pre_gnss.loc_speed, pre_gnss.bearing\n",
    "            if spd < 0:\n",
    "                spd = pre_gnss.speed\n",
    "            next_lng, next_lat, \\\n",
    "            next_spd, next_brng = estimate_next_loc_by_dft(lng, lat, spd, brng)\n",
    "            next_position = '%.6f,%.6f' % (next_lng, next_lat)\n",
    "            pred_loc = [next_lng, next_lat, next_spd, next_brng]\n",
    "        elif pred_loc is not None:\n",
    "            next_lng, next_lat, \\\n",
    "            next_spd, next_brng = estimate_next_loc_by_dft(pred_loc[0], pred_loc[1], \n",
    "                                                           pred_loc[2], pred_loc[3])\n",
    "            next_position = '%.6f,%.6f' % (next_lng, next_lat)\n",
    "            pred_loc = [next_lng, next_lat, next_spd, next_brng]\n",
    "        else:\n",
    "            pass\n",
    "        time.sleep(1.001)\n",
    "        sec_cnt += 1\n",
    "        continue\n",
    "    \n",
    "    if gnss_unit is not None:\n",
    "        gnss_unit.pre_gnss = pre_gnss\n",
    "        pre_gnss = gnss_unit\n",
    "        next_position = '%.6f,%.6f' % (gnss_unit.lng, gnss_unit.lat)\n",
    "    elif pre_gnss is not None:\n",
    "        next_lng, next_lat, \\\n",
    "        next_spd, next_brng = estimate_next_loc(acc_unit_list, gy_unit_list, obd_unit_list, pre_gnss, \n",
    "                                                model=model, ftr_gen=ftr_gen, \n",
    "                                                ftr_hz=ftr_hz, collect_hz=collect_hz)\n",
    "        next_position = '%.6f,%.6f' % (next_lng, next_lat)\n",
    "        pred_loc = [next_lng, next_lat, next_spd, next_brng]\n",
    "        pre_gnss = None\n",
    "    elif pred_loc is not None:\n",
    "        next_lng, next_lat, \\\n",
    "        next_spd, next_brng = estimate_next_loc_by_pred(acc_unit_list, gy_unit_list, obd_unit_list, pred_loc, \n",
    "                                                        model=model, ftr_gen=ftr_gen, \n",
    "                                                        ftr_hz=ftr_hz, collect_hz=collect_hz)\n",
    "        next_position = '%.6f,%.6f' % (next_lng, next_lat)\n",
    "        pred_loc = [next_lng, next_lat, next_spd, next_brng]\n",
    "    else:\n",
    "        pass\n",
    "        \n",
    "    time.sleep(1.001)  # 正式比赛需要\n",
    "    sec_cnt += 1"
   ]
  },
  {
   "cell_type": "code",
   "execution_count": 27,
   "id": "9289f4db",
   "metadata": {},
   "outputs": [],
   "source": [
    "est_fd = open('./EvaluationRun02.csv', 'w')\n",
    "\n",
    "cnt = 0\n",
    "init_gps_tow = gt_gnss_unit_list[0].gps_tow\n",
    "\n",
    "r = requests.get(server + trialname + '/estimates')\n",
    "for i, line in enumerate(r.text.splitlines()):\n",
    "    if i in {0, 1}:\n",
    "        continue\n",
    "    s = parse(estfmt, line)\n",
    "    ts = float(s.named['pts'])\n",
    "    lng, lat, altitude = [float(x) for x in s.named['pos'].split(',')]\n",
    "    \n",
    "    if cnt == 0:\n",
    "        ts = init_gps_tow\n",
    "    else:\n",
    "        ts = init_gps_tow + cnt\n",
    "    est_fd.write('%.3f,%.6f,%.6f,%.1f\\n' % (ts, lat, lng, altitude))\n",
    "    cnt += 1\n",
    "    \n",
    "est_fd.close()"
   ]
  },
  {
   "cell_type": "code",
   "execution_count": 28,
   "id": "e322650f",
   "metadata": {},
   "outputs": [
    {
     "name": "stdout",
     "output_type": "stream",
     "text": [
      "5055\n"
     ]
    }
   ],
   "source": [
    "r = requests.get(server + trialname + '/estimates')\n",
    "print(len(r.text.splitlines()))"
   ]
  },
  {
   "cell_type": "code",
   "execution_count": 29,
   "id": "88f6efed",
   "metadata": {},
   "outputs": [
    {
     "name": "stdout",
     "output_type": "stream",
     "text": [
      "{'pts': 5074.885, 'c': 1694612423.31, 'h': 1.0, 's': 15.0, 'pos': '116.390356,40.006868,0.0'}\n"
     ]
    }
   ],
   "source": [
    "print(parse(estfmt, r.text.splitlines()[-1]).named)"
   ]
  },
  {
   "cell_type": "code",
   "execution_count": 30,
   "id": "a14caf7d",
   "metadata": {},
   "outputs": [
    {
     "name": "stdout",
     "output_type": "stream",
     "text": [
      "280758.0\n",
      "21.931,116.390449,40.006868,182.000,0.000\n"
     ]
    }
   ],
   "source": [
    "print(gt_gnss_unit_list[0].gps_tow)\n",
    "print(gt_gnss_unit_list[0])"
   ]
  },
  {
   "cell_type": "code",
   "execution_count": null,
   "id": "2bf630b0",
   "metadata": {},
   "outputs": [],
   "source": []
  },
  {
   "cell_type": "markdown",
   "id": "888f82b2",
   "metadata": {},
   "source": [
    "## 评估"
   ]
  },
  {
   "cell_type": "code",
   "execution_count": 31,
   "id": "009f8711",
   "metadata": {
    "scrolled": true
   },
   "outputs": [],
   "source": [
    "ts_estimate_loc_map = {}\n",
    "\n",
    "r = requests.get(server + trialname + '/estimates')\n",
    "for i, line in enumerate(r.text.splitlines()):\n",
    "    if i in {0, 1}:\n",
    "        continue\n",
    "    s = parse(estfmt, line)\n",
    "    ts = int(float(s.named['pts']))\n",
    "    loc_str = s.named['pos']\n",
    "    lng, lat = float(loc_str.split(',')[0]), float(loc_str.split(',')[1])\n",
    "    lng, lat = geo_util.wgs84_to_gcj02(lng, lat)\n",
    "    ts_estimate_loc_map[ts] = [lng, lat]\n",
    "    \n",
    "ts_list = sorted(ts_estimate_loc_map.keys(), reverse=False)\n",
    "with open('offline_estimate2.csv', 'w') as fd:\n",
    "    fd.write('ts,lng,lat\\n')\n",
    "    for i, ts in enumerate(ts_list):\n",
    "        lng, lat = ts_estimate_loc_map[ts]\n",
    "        if i > 0:\n",
    "            ts = ts - ts_list[0]\n",
    "        fd.write('%d,%.6f,%.6f\\n' % (ts, lng, lat))"
   ]
  },
  {
   "cell_type": "code",
   "execution_count": 32,
   "id": "1016a99b",
   "metadata": {},
   "outputs": [],
   "source": [
    "ts_gnss_loc_map = {}\n",
    "\n",
    "for i, gnss in enumerate(gt_gnss_unit_list):\n",
    "    ts = int(round(gnss.app_ts, 0))\n",
    "    lng, lat = gnss.lng_gcj02, gnss.lat_gcj02\n",
    "    ts_gnss_loc_map[ts] = [lng, lat]\n",
    "    \n",
    "ts_list = sorted(ts_gnss_loc_map.keys(), reverse=False)\n",
    "with open('offline_gnss2.csv', 'w') as fd:\n",
    "    fd.write('ts,lng,lat\\n')\n",
    "    for i, ts in enumerate(ts_list):\n",
    "        lng, lat = ts_gnss_loc_map[ts]\n",
    "        if i > 0:\n",
    "            ts = ts - ts_list[0]\n",
    "        fd.write('%d,%.6f,%.6f\\n' % (ts, lng, lat))"
   ]
  },
  {
   "cell_type": "code",
   "execution_count": 33,
   "id": "557bc639",
   "metadata": {},
   "outputs": [
    {
     "data": {
      "text/plain": [
       "2083"
      ]
     },
     "execution_count": 33,
     "metadata": {},
     "output_type": "execute_result"
    }
   ],
   "source": [
    "len(ts_gnss_loc_map)"
   ]
  },
  {
   "cell_type": "code",
   "execution_count": 34,
   "id": "7617eada",
   "metadata": {},
   "outputs": [],
   "source": [
    "dist_err_list = []\n",
    "\n",
    "for ts, (lng, lat) in ts_estimate_loc_map.items():\n",
    "    if ts not in ts_gnss_loc_map and ts + 1 in ts_gnss_loc_map:\n",
    "        dist_err = geo_util.distance(lng, lat, \n",
    "                                     ts_gnss_loc_map[ts + 1][0], ts_gnss_loc_map[ts + 1][1])\n",
    "        dist_err_list.append(dist_err)"
   ]
  },
  {
   "cell_type": "code",
   "execution_count": 35,
   "id": "25a81965",
   "metadata": {},
   "outputs": [
    {
     "name": "stdout",
     "output_type": "stream",
     "text": [
      "5.402017\n",
      "25.768239\n",
      "42.24721025\n"
     ]
    }
   ],
   "source": [
    "print(np.percentile(dist_err_list, 25))\n",
    "print(np.percentile(dist_err_list, 50))\n",
    "print(np.percentile(dist_err_list, 75))"
   ]
  },
  {
   "cell_type": "code",
   "execution_count": 36,
   "id": "d903eb4c",
   "metadata": {},
   "outputs": [
    {
     "data": {
      "text/plain": [
       "[0.0, 12.717748, 55.174156, 2.96344, 38.81873, 43.390037]"
      ]
     },
     "execution_count": 36,
     "metadata": {},
     "output_type": "execute_result"
    }
   ],
   "source": [
    "dist_err_list"
   ]
  },
  {
   "cell_type": "code",
   "execution_count": null,
   "id": "43def0a4",
   "metadata": {},
   "outputs": [],
   "source": []
  },
  {
   "cell_type": "code",
   "execution_count": null,
   "id": "126627b9",
   "metadata": {},
   "outputs": [],
   "source": []
  },
  {
   "cell_type": "code",
   "execution_count": null,
   "id": "4edec3be",
   "metadata": {},
   "outputs": [],
   "source": []
  },
  {
   "cell_type": "code",
   "execution_count": 34,
   "id": "842ef69f",
   "metadata": {},
   "outputs": [],
   "source": [
    "cnt = 0\n",
    "init_gps_tow = gt_gnss_unit_list[0].gps_tow\n",
    "\n",
    "tow_estimate_locs = []\n",
    "\n",
    "r = requests.get(server + trialname + '/estimates')\n",
    "for i, line in enumerate(r.text.splitlines()):\n",
    "    if i in {0, 1}:\n",
    "        continue\n",
    "    s = parse(estfmt, line)\n",
    "    ts = float(s.named['pts'])\n",
    "    lng, lat, altitude = [float(x) for x in s.named['pos'].split(',')]\n",
    "    \n",
    "    if cnt == 0:\n",
    "        ts = init_gps_tow\n",
    "    else:\n",
    "        ts = init_gps_tow + cnt\n",
    "    cnt += 1\n",
    "    tow_estimate_locs.append([lng, lat, ts])\n",
    "    \n",
    "gt_gps_tows = set([u.gps_tow for u in gt_gnss_unit_list])"
   ]
  },
  {
   "cell_type": "code",
   "execution_count": 35,
   "id": "fcf61a5d",
   "metadata": {},
   "outputs": [
    {
     "name": "stdout",
     "output_type": "stream",
     "text": [
      "5494\n"
     ]
    }
   ],
   "source": [
    "posi_unit_list = []\n",
    "posi_unit_map = {}\n",
    "\n",
    "with open('./trials2023/POSI_testingData.txt', 'r') as fd:\n",
    "    for line in fd:\n",
    "        if line.startswith('POSI'):\n",
    "            unit = posiUnit(line.strip())\n",
    "            posi_unit_list.append(unit)\n",
    "            posi_unit_map[unit.gps_tow] = unit\n",
    "            \n",
    "print(len(posi_unit_list))"
   ]
  },
  {
   "cell_type": "code",
   "execution_count": 36,
   "id": "0e09ffe3",
   "metadata": {},
   "outputs": [
    {
     "name": "stdout",
     "output_type": "stream",
     "text": [
      "2526\n",
      "27.6935805\n",
      "54.8975455\n",
      "73.80828825\n"
     ]
    }
   ],
   "source": [
    "errs = []\n",
    "for posi_unit, (lng, lat, ts) in zip(posi_unit_list, tow_estimate_locs):\n",
    "    if ts in gt_gps_tows:\n",
    "        continue\n",
    "    err = geo_util.distance(posi_unit.lng, posi_unit.lat, lng, lat)\n",
    "    errs.append(err)\n",
    "    \n",
    "print(len(errs))\n",
    "print(np.percentile(errs, 25))\n",
    "print(np.percentile(errs, 50))\n",
    "print(np.percentile(errs, 75))"
   ]
  },
  {
   "cell_type": "code",
   "execution_count": 37,
   "id": "c791d812",
   "metadata": {},
   "outputs": [
    {
     "name": "stdout",
     "output_type": "stream",
     "text": [
      "4847\n",
      "2.9857665\n",
      "8.735258\n",
      "57.664604\n"
     ]
    }
   ],
   "source": [
    "errs = []\n",
    "for posi_unit, (lng, lat, ts) in zip(posi_unit_list, tow_estimate_locs):\n",
    "    err = geo_util.distance(posi_unit.lng, posi_unit.lat, lng, lat)\n",
    "    errs.append(err)\n",
    "    \n",
    "print(len(errs))\n",
    "print(np.percentile(errs, 25))\n",
    "print(np.percentile(errs, 50))\n",
    "print(np.percentile(errs, 75))"
   ]
  },
  {
   "cell_type": "code",
   "execution_count": null,
   "id": "c4ef4b8d",
   "metadata": {},
   "outputs": [],
   "source": []
  },
  {
   "cell_type": "code",
   "execution_count": null,
   "id": "0a06528d",
   "metadata": {},
   "outputs": [],
   "source": []
  },
  {
   "cell_type": "code",
   "execution_count": null,
   "id": "de54a23f",
   "metadata": {},
   "outputs": [],
   "source": []
  },
  {
   "cell_type": "code",
   "execution_count": 37,
   "id": "531c9c0e",
   "metadata": {},
   "outputs": [
    {
     "name": "stdout",
     "output_type": "stream",
     "text": [
      "2526\n",
      "27.6935805\n",
      "54.8975455\n",
      "73.80828825\n"
     ]
    }
   ],
   "source": [
    "print(len(errs))\n",
    "print(np.percentile(errs, 25))\n",
    "print(np.percentile(errs, 50))\n",
    "print(np.percentile(errs, 75))"
   ]
  },
  {
   "cell_type": "code",
   "execution_count": null,
   "id": "a066d9d7",
   "metadata": {},
   "outputs": [],
   "source": []
  }
 ],
 "metadata": {
  "kernelspec": {
   "display_name": "Python 3 (ipykernel)",
   "language": "python",
   "name": "python3"
  },
  "language_info": {
   "codemirror_mode": {
    "name": "ipython",
    "version": 3
   },
   "file_extension": ".py",
   "mimetype": "text/x-python",
   "name": "python",
   "nbconvert_exporter": "python",
   "pygments_lexer": "ipython3",
   "version": "3.9.13"
  },
  "toc": {
   "base_numbering": 1,
   "nav_menu": {},
   "number_sections": true,
   "sideBar": true,
   "skip_h1_title": false,
   "title_cell": "Table of Contents",
   "title_sidebar": "Contents",
   "toc_cell": false,
   "toc_position": {
    "height": "calc(100% - 180px)",
    "left": "10px",
    "top": "150px",
    "width": "279.594px"
   },
   "toc_section_display": true,
   "toc_window_display": true
  }
 },
 "nbformat": 4,
 "nbformat_minor": 5
}
