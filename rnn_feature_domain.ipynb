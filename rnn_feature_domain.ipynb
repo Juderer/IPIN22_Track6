{
 "cells": [
  {
   "cell_type": "code",
   "execution_count": 1,
   "id": "2809b357",
   "metadata": {
    "pycharm": {
     "name": "#%%\n"
    }
   },
   "outputs": [],
   "source": [
    "import os\n",
    "import sys\n",
    "import numpy as np\n",
    "import matplotlib.pyplot as plt\n",
    "\n",
    "sys.path.append(os.path.abspath('./'))\n",
    "from utils import *\n",
    "from data_struct import *\n",
    "from fft_extract import *"
   ]
  },
  {
   "cell_type": "code",
   "execution_count": 11,
   "id": "35c73f4d",
   "metadata": {
    "pycharm": {
     "name": "#%%\n"
    }
   },
   "outputs": [],
   "source": [
    "def parse_sec_imu_data(file_path):\n",
    "    fd = open(file_path)\n",
    "    ts_sen_map = {}\n",
    "    for i, line in enumerate(fd):\n",
    "        if i == 0:\n",
    "            continue\n",
    "        sen_unit = SenUnitV2(line)\n",
    "        if sen_unit.ts not in ts_sen_map:\n",
    "            ts_sen_map[sen_unit.ts] = [sen_unit]\n",
    "        else:\n",
    "            ts_sen_map[sen_unit.ts].append(sen_unit)\n",
    "    fd.close()\n",
    "    \n",
    "    ts_list = sorted(ts_sen_map.keys())\n",
    "    sec_sen_arr = []\n",
    "    if len(ts_list) <= 10:\n",
    "        return sec_sen_arr\n",
    "    for ts in ts_list[5:-5]:\n",
    "        sec_sen_arr.append(ts_sen_map[ts])\n",
    "    return sec_sen_arr\n",
    "\n",
    "\n",
    "def calc_feature_val(sec_sen_arr, imu=None, axis=None, func_name=None):\n",
    "    \"\"\"\n",
    "    Args\n",
    "        @sec_sen_arr: 每秒传感器数据\n",
    "        @imu: 传感器类型[acc, gy, grv]\n",
    "        @axis: 传感器坐标轴[x, y, z, s]\n",
    "        @func_name: 特征函数名[mean, std, min, max, ...]\n",
    "    Return\n",
    "    \"\"\"\n",
    "    print('Calculate %s_%s_%s' % (imu, axis, func_name))\n",
    "    imu_data_arr = []\n",
    "    if imu == 'acc' and axis == 'x':\n",
    "        for sec_sen_list in sec_sen_arr:\n",
    "            imu_data_arr.append([u.accx for u in sec_sen_list])\n",
    "    if imu == 'acc' and axis == 'y':\n",
    "        for sec_sen_list in sec_sen_arr:\n",
    "            imu_data_arr.append([u.accy for u in sec_sen_list])\n",
    "    if imu == 'acc' and axis == 'z':\n",
    "        for sec_sen_list in sec_sen_arr:\n",
    "            imu_data_arr.append([u.accz for u in sec_sen_list])\n",
    "    if imu == 'gy' and axis == 'x':\n",
    "        for sec_sen_list in sec_sen_arr:\n",
    "            imu_data_arr.append([u.gyrx for u in sec_sen_list])\n",
    "    if imu == 'gy' and axis == 'y':\n",
    "        for sec_sen_list in sec_sen_arr:\n",
    "            imu_data_arr.append([u.gyry for u in sec_sen_list])\n",
    "    if imu == 'gy' and axis == 'z':\n",
    "        for sec_sen_list in sec_sen_arr:\n",
    "            imu_data_arr.append([u.gyrz for u in sec_sen_list])\n",
    "    if imu == 'grv' and axis == 'x':\n",
    "        for sec_sen_list in sec_sen_arr:\n",
    "            imu_data_arr.append([u.gamervx for u in sec_sen_list])\n",
    "    if imu == 'grv' and axis == 'y':\n",
    "        for sec_sen_list in sec_sen_arr:\n",
    "            imu_data_arr.append([u.gamervy for u in sec_sen_list])\n",
    "    if imu == 'grv' and axis == 'z':\n",
    "        for sec_sen_list in sec_sen_arr:\n",
    "            imu_data_arr.append([u.gamervz for u in sec_sen_list])\n",
    "    if imu == 'grv' and axis == 's':\n",
    "        for sec_sen_list in sec_sen_arr:\n",
    "            imu_data_arr.append([u.gamervs for u in sec_sen_list])\n",
    "    \n",
    "    ftr_func_map = {'mean': np.mean, 'std': np.std, 'min': np.min, 'max': np.max, \n",
    "                    'fft_mean': fft_ftr_gen.fft_mean, 'fft_std': fft_ftr_gen.fft_std, \n",
    "                    'fft_entropy': fft_ftr_gen.fft_entropy, 'fft_energy': fft_ftr_gen.fft_energy, \n",
    "                    'fft_skew': fft_ftr_gen.fft_skew, 'fft_kurt': fft_ftr_gen.fft_kurt}\n",
    "    ftr_func = None\n",
    "    if func_name and func_name in ftr_func_map:\n",
    "        ftr_func = ftr_func_map[func_name]\n",
    "    \n",
    "    imu_ftr_val_list = []\n",
    "    if len(imu_data_arr) == 0 or ftr_func is None:\n",
    "        return imu_ftr_val_list\n",
    "    for imu_data_list in imu_data_arr:\n",
    "        imu_ftr_val_list.append(ftr_func(imu_data_list))\n",
    "    return imu_ftr_val_list\n",
    "\n",
    "\n",
    "def calc_feature_domain(ftr_val_list):\n",
    "    median_val = np.median(ftr_val_list)\n",
    "    mean_val = np.mean(ftr_val_list)\n",
    "    perc1_val = np.percentile(ftr_val_list, 1)\n",
    "    perc5_val = np.percentile(ftr_val_list, 5)\n",
    "    perc95_val = np.percentile(ftr_val_list, 95)\n",
    "    perc99_val = np.percentile(ftr_val_list, 99)\n",
    "    return perc1_val, perc5_val, median_val, mean_val, perc95_val, perc99_val"
   ]
  },
  {
   "cell_type": "markdown",
   "id": "4bf0036d",
   "metadata": {
    "pycharm": {
     "name": "#%% md\n"
    }
   },
   "source": [
    "# 处理流程\n",
    "\n",
    "- 1、按秒读取数据；\n",
    "- 2、统计特征值分布；\n",
    "- 3、按规则生成特征配置文件（如：生成rnn_feature_v1.0）；"
   ]
  },
  {
   "cell_type": "code",
   "execution_count": 32,
   "id": "0619eb73",
   "metadata": {
    "pycharm": {
     "name": "#%%\n"
    }
   },
   "outputs": [],
   "source": [
    "phone_pose = 'flat'  # 手机姿态"
   ]
  },
  {
   "cell_type": "code",
   "execution_count": 33,
   "id": "6c7d7dd7",
   "metadata": {
    "pycharm": {
     "name": "#%%\n"
    }
   },
   "outputs": [],
   "source": [
    "path_map = {'flat': ['./dataset/220407_Wground_recovery'], \n",
    "            'calling': ['/Users/zhushuli/Desktop/PDR_dataset/220503_Wground_recovery/calling'], \n",
    "            'pocket': ['/Users/zhushuli/Desktop/PDR_dataset/220503_Wground_recovery/pocket']}\n",
    "\n",
    "# 根据手机姿态选择数据\n",
    "dataset_root_path_list = path_map[phone_pose]\n",
    "dataset_file_path_list = []\n",
    "for dataset_root_path in dataset_root_path_list:\n",
    "    dataset_file_path_list.extend(ComTools.traverse_dir(dataset_root_path))\n",
    "# print(dataset_file_path_list)"
   ]
  },
  {
   "cell_type": "code",
   "execution_count": 34,
   "id": "2c7c08cd",
   "metadata": {
    "scrolled": true,
    "pycharm": {
     "name": "#%%\n"
    }
   },
   "outputs": [
    {
     "name": "stdout",
     "output_type": "stream",
     "text": [
      "Read ./dataset/220407_Wground_recovery/phone1/user2/2022-04-07 15-50-14.csv\n",
      "Read ./dataset/220407_Wground_recovery/phone1/user2/2022-04-07 15-55-03.csv\n",
      "Read ./dataset/220407_Wground_recovery/phone1/user2/2022-04-07 15-58-41.csv\n",
      "Read ./dataset/220407_Wground_recovery/phone1/user2/2022-04-07 16-02-32.csv\n",
      "Read ./dataset/220407_Wground_recovery/phone1/user2/2022-04-07 16-07-48.csv\n",
      "Read ./dataset/220407_Wground_recovery/phone1/user2/2022-04-07 16-12-35.csv\n",
      "Read ./dataset/220407_Wground_recovery/phone1/user2/2022-04-07 16-17-30.csv\n",
      "Read ./dataset/220407_Wground_recovery/phone1/user2/2022-04-07 16-21-56.csv\n",
      "Read ./dataset/220407_Wground_recovery/phone1/user2/2022-04-07 16-26-32.csv\n",
      "Read ./dataset/220407_Wground_recovery/phone1/user2/2022-04-07 16-31-57.csv\n",
      "Read ./dataset/220407_Wground_recovery/phone1/user5/2022-04-07 14-41-13.csv\n",
      "Read ./dataset/220407_Wground_recovery/phone1/user5/2022-04-07 14-45-20.csv\n",
      "Read ./dataset/220407_Wground_recovery/phone1/user5/2022-04-07 14-48-39.csv\n",
      "Read ./dataset/220407_Wground_recovery/phone1/user5/2022-04-07 14-52-07.csv\n",
      "Read ./dataset/220407_Wground_recovery/phone1/user5/2022-04-07 14-55-18.csv\n",
      "Read ./dataset/220407_Wground_recovery/phone1/user5/2022-04-07 14-58-45.csv\n",
      "Read ./dataset/220407_Wground_recovery/phone1/user5/2022-04-07 15-01-56.csv\n",
      "Read ./dataset/220407_Wground_recovery/phone1/user5/2022-04-07 15-05-15.csv\n",
      "Read ./dataset/220407_Wground_recovery/phone1/user5/2022-04-07 15-09-26.csv\n",
      "Read ./dataset/220407_Wground_recovery/phone1/user5/2022-04-07 15-12-54.csv\n",
      "Read ./dataset/220407_Wground_recovery/phone1/user8/2022-04-08 15-47-51.csv\n",
      "Read ./dataset/220407_Wground_recovery/phone1/user8/2022-04-08 15-52-46.csv\n",
      "Read ./dataset/220407_Wground_recovery/phone1/user8/2022-04-08 15-59-01.csv\n",
      "Read ./dataset/220407_Wground_recovery/phone1/user8/2022-04-08 16-05-16.csv\n",
      "Read ./dataset/220407_Wground_recovery/phone1/user8/2022-04-08 16-09-32.csv\n",
      "Read ./dataset/220407_Wground_recovery/phone2/user13/2022-04-07 14-41-26.csv\n",
      "Read ./dataset/220407_Wground_recovery/phone2/user13/2022-04-07 14-45-09.csv\n",
      "Read ./dataset/220407_Wground_recovery/phone2/user13/2022-04-07 14-49-28.csv\n",
      "Read ./dataset/220407_Wground_recovery/phone2/user13/2022-04-07 14-52-17.csv\n",
      "Read ./dataset/220407_Wground_recovery/phone2/user13/2022-04-07 14-55-09.csv\n",
      "Read ./dataset/220407_Wground_recovery/phone2/user13/2022-04-07 14-58-42.csv\n",
      "Read ./dataset/220407_Wground_recovery/phone2/user13/2022-04-07 15-01-46.csv\n",
      "Read ./dataset/220407_Wground_recovery/phone2/user13/2022-04-07 15-05-21.csv\n",
      "Read ./dataset/220407_Wground_recovery/phone2/user13/2022-04-07 15-09-20.csv\n",
      "Read ./dataset/220407_Wground_recovery/phone2/user13/2022-04-07 15-12-35.csv\n",
      "Read ./dataset/220407_Wground_recovery/phone2/user4/2022-04-07 15-28-14.csv\n",
      "Read ./dataset/220407_Wground_recovery/phone2/user4/2022-04-07 15-31-54.csv\n",
      "Read ./dataset/220407_Wground_recovery/phone2/user4/2022-04-07 15-34-59.csv\n",
      "Read ./dataset/220407_Wground_recovery/phone2/user4/2022-04-07 15-38-28.csv\n",
      "Read ./dataset/220407_Wground_recovery/phone2/user4/2022-04-07 15-41-55.csv\n",
      "Read ./dataset/220407_Wground_recovery/phone2/user4/2022-04-07 15-44-41.csv\n",
      "Read ./dataset/220407_Wground_recovery/phone2/user4/2022-04-07 15-48-13.csv\n",
      "Read ./dataset/220407_Wground_recovery/phone2/user4/2022-04-07 15-51-36.csv\n",
      "Read ./dataset/220407_Wground_recovery/phone2/user4/2022-04-07 15-55-00.csv\n",
      "Read ./dataset/220407_Wground_recovery/phone2/user4/2022-04-07 15-59-29.csv\n",
      "Read ./dataset/220407_Wground_recovery/phone2/user9/2022-04-07 16-08-18.csv\n",
      "Read ./dataset/220407_Wground_recovery/phone2/user9/2022-04-07 16-12-38.csv\n",
      "Read ./dataset/220407_Wground_recovery/phone2/user9/2022-04-07 16-17-05.csv\n",
      "Read ./dataset/220407_Wground_recovery/phone2/user9/2022-04-07 16-23-09.csv\n",
      "Read ./dataset/220407_Wground_recovery/phone2/user9/2022-04-07 16-27-47.csv\n",
      "Read ./dataset/220407_Wground_recovery/phone2/user9/2022-04-07 16-35-53.csv\n",
      "Read ./dataset/220407_Wground_recovery/phone2/user9/2022-04-07 16-41-02.csv\n",
      "Read ./dataset/220407_Wground_recovery/phone2/user9/2022-04-07 16-45-01.csv\n",
      "Read ./dataset/220407_Wground_recovery/phone2/user9/2022-04-07 16-48-37.csv\n",
      "Read ./dataset/220407_Wground_recovery/phone2/user9/2022-04-07 16-52-35.csv\n",
      "Read ./dataset/220407_Wground_recovery/phone4/user15/2022-04-07 15-28-59.csv\n",
      "Read ./dataset/220407_Wground_recovery/phone4/user15/2022-04-07 15-32-40.csv\n",
      "Read ./dataset/220407_Wground_recovery/phone4/user15/2022-04-07 15-35-44.csv\n",
      "Read ./dataset/220407_Wground_recovery/phone4/user15/2022-04-07 15-39-13.csv\n",
      "Read ./dataset/220407_Wground_recovery/phone4/user15/2022-04-07 15-42-40.csv\n",
      "Read ./dataset/220407_Wground_recovery/phone4/user15/2022-04-07 15-45-27.csv\n",
      "Read ./dataset/220407_Wground_recovery/phone4/user15/2022-04-07 15-49-01.csv\n",
      "Read ./dataset/220407_Wground_recovery/phone4/user15/2022-04-07 15-52-21.csv\n",
      "Read ./dataset/220407_Wground_recovery/phone4/user15/2022-04-07 15-55-48.csv\n",
      "Read ./dataset/220407_Wground_recovery/phone4/user15/2022-04-07 16-00-15.csv\n",
      "Read ./dataset/220407_Wground_recovery/phone4/user7/2022-04-07 14-41-48.csv\n",
      "Read ./dataset/220407_Wground_recovery/phone4/user7/2022-04-07 14-45-49.csv\n",
      "Read ./dataset/220407_Wground_recovery/phone4/user7/2022-04-07 14-49-05.csv\n",
      "Read ./dataset/220407_Wground_recovery/phone4/user7/2022-04-07 14-52-51.csv\n",
      "Read ./dataset/220407_Wground_recovery/phone4/user7/2022-04-07 14-55-52.csv\n",
      "Read ./dataset/220407_Wground_recovery/phone4/user7/2022-04-07 14-59-16.csv\n",
      "Read ./dataset/220407_Wground_recovery/phone4/user7/2022-04-07 15-02-25.csv\n",
      "Read ./dataset/220407_Wground_recovery/phone4/user7/2022-04-07 15-05-58.csv\n",
      "Read ./dataset/220407_Wground_recovery/phone4/user7/2022-04-07 15-10-07.csv\n",
      "Read ./dataset/220407_Wground_recovery/phone4/user7/2022-04-07 15-13-28.csv\n",
      "Read ./dataset/220407_Wground_recovery/phone5/user14/2022-04-07 15-17-39.csv\n",
      "Read ./dataset/220407_Wground_recovery/phone5/user14/2022-04-07 15-23-09.csv\n",
      "Read ./dataset/220407_Wground_recovery/phone5/user14/2022-04-07 15-28-00.csv\n",
      "Read ./dataset/220407_Wground_recovery/phone5/user14/2022-04-07 15-32-08.csv\n",
      "Read ./dataset/220407_Wground_recovery/phone5/user14/2022-04-07 15-35-23.csv\n",
      "Read ./dataset/220407_Wground_recovery/phone5/user14/2022-04-07 15-39-09.csv\n",
      "Read ./dataset/220407_Wground_recovery/phone5/user14/2022-04-07 15-42-49.csv\n",
      "Read ./dataset/220407_Wground_recovery/phone5/user14/2022-04-07 15-46-45.csv\n",
      "Read ./dataset/220407_Wground_recovery/phone5/user14/2022-04-07 15-50-15.csv\n",
      "Read ./dataset/220407_Wground_recovery/phone5/user14/2022-04-07 15-54-19.csv\n",
      "Read ./dataset/220407_Wground_recovery/phone5/user15/2022-04-08 15-47-50.csv\n",
      "Read ./dataset/220407_Wground_recovery/phone5/user15/2022-04-08 15-52-46.csv\n",
      "Read ./dataset/220407_Wground_recovery/phone5/user15/2022-04-08 15-59-01.csv\n",
      "Read ./dataset/220407_Wground_recovery/phone5/user15/2022-04-08 16-05-20.csv\n",
      "Read ./dataset/220407_Wground_recovery/phone5/user15/2022-04-08 16-09-33.csv\n",
      "Read ./dataset/220407_Wground_recovery/phone5/user3/2022-04-07 16-08-02.csv\n",
      "Read ./dataset/220407_Wground_recovery/phone5/user3/2022-04-07 16-12-11.csv\n",
      "Read ./dataset/220407_Wground_recovery/phone5/user3/2022-04-07 16-16-45.csv\n",
      "Read ./dataset/220407_Wground_recovery/phone5/user3/2022-04-07 16-22-49.csv\n",
      "Read ./dataset/220407_Wground_recovery/phone5/user3/2022-04-07 16-27-26.csv\n",
      "Read ./dataset/220407_Wground_recovery/phone5/user3/2022-04-07 16-35-32.csv\n",
      "Read ./dataset/220407_Wground_recovery/phone5/user3/2022-04-07 16-40-41.csv\n",
      "Read ./dataset/220407_Wground_recovery/phone5/user3/2022-04-07 16-44-35.csv\n",
      "Read ./dataset/220407_Wground_recovery/phone5/user3/2022-04-07 16-48-17.csv\n",
      "Read ./dataset/220407_Wground_recovery/phone5/user3/2022-04-07 16-52-16.csv\n",
      "Statistic: 19292 seconds\n"
     ]
    }
   ],
   "source": [
    "sec_sen_arr = []\n",
    "for file_path in dataset_file_path_list:\n",
    "    print('Read %s' % file_path)\n",
    "    sec_sen_arr.extend(parse_sec_imu_data(file_path))\n",
    "print('Statistic: %d seconds' % len(sec_sen_arr))"
   ]
  },
  {
   "cell_type": "code",
   "execution_count": 35,
   "id": "b2ecd9f1",
   "metadata": {
    "scrolled": true,
    "pycharm": {
     "name": "#%%\n"
    }
   },
   "outputs": [
    {
     "name": "stdout",
     "output_type": "stream",
     "text": [
      "Calculate acc_x_mean\n",
      "Calculate acc_x_std\n",
      "Calculate acc_x_min\n",
      "Calculate acc_x_max\n",
      "Calculate acc_x_fft_mean\n",
      "Calculate acc_x_fft_std\n",
      "Calculate acc_x_fft_entropy\n",
      "Calculate acc_x_fft_energy\n",
      "Calculate acc_x_fft_skew\n",
      "Calculate acc_x_fft_kurt\n",
      "Calculate acc_y_mean\n",
      "Calculate acc_y_std\n",
      "Calculate acc_y_min\n",
      "Calculate acc_y_max\n",
      "Calculate acc_y_fft_mean\n",
      "Calculate acc_y_fft_std\n",
      "Calculate acc_y_fft_entropy\n",
      "Calculate acc_y_fft_energy\n",
      "Calculate acc_y_fft_skew\n",
      "Calculate acc_y_fft_kurt\n",
      "Calculate acc_z_mean\n",
      "Calculate acc_z_std\n",
      "Calculate acc_z_min\n",
      "Calculate acc_z_max\n",
      "Calculate acc_z_fft_mean\n",
      "Calculate acc_z_fft_std\n",
      "Calculate acc_z_fft_entropy\n",
      "Calculate acc_z_fft_energy\n",
      "Calculate acc_z_fft_skew\n",
      "Calculate acc_z_fft_kurt\n",
      "Calculate gy_x_mean\n",
      "Calculate gy_x_std\n",
      "Calculate gy_x_min\n",
      "Calculate gy_x_max\n",
      "Calculate gy_x_fft_mean\n",
      "Calculate gy_x_fft_std\n",
      "Calculate gy_x_fft_entropy\n",
      "Calculate gy_x_fft_energy\n",
      "Calculate gy_x_fft_skew\n",
      "Calculate gy_x_fft_kurt\n",
      "Calculate gy_y_mean\n",
      "Calculate gy_y_std\n",
      "Calculate gy_y_min\n",
      "Calculate gy_y_max\n",
      "Calculate gy_y_fft_mean\n",
      "Calculate gy_y_fft_std\n",
      "Calculate gy_y_fft_entropy\n",
      "Calculate gy_y_fft_energy\n",
      "Calculate gy_y_fft_skew\n",
      "Calculate gy_y_fft_kurt\n",
      "Calculate gy_z_mean\n",
      "Calculate gy_z_std\n",
      "Calculate gy_z_min\n",
      "Calculate gy_z_max\n",
      "Calculate gy_z_fft_mean\n",
      "Calculate gy_z_fft_std\n",
      "Calculate gy_z_fft_entropy\n",
      "Calculate gy_z_fft_energy\n",
      "Calculate gy_z_fft_skew\n",
      "Calculate gy_z_fft_kurt\n"
     ]
    }
   ],
   "source": [
    "acc_ftr_val_map = {'x': {'mean': [], 'std': [], 'min': [], 'max': [], \n",
    "                         'fft_mean': [], 'fft_std': [], 'fft_entropy': [], 'fft_energy': [], \n",
    "                         'fft_skew': [], 'fft_kurt': []}, \n",
    "                   'y': {'mean': [], 'std': [], 'min': [], 'max': []}, \n",
    "                   'z': {'mean': [], 'std': [], 'min': [], 'max': []}}\n",
    "gy_ftr_val_map = {'x': {'mean': [], 'std': [], 'min': [], 'max': []}, \n",
    "                  'y': {'mean': [], 'std': [], 'min': [], 'max': []}, \n",
    "                  'z': {'mean': [], 'std': [], 'min': [], 'max': []}}\n",
    "grv_ftr_val_map = {'x': {'mean': [], 'std': [], 'min': [], 'max': []}, \n",
    "                   'y': {'mean': [], 'std': [], 'min': [], 'max': []}, \n",
    "                   'z': {'mean': [], 'std': [], 'min': [], 'max': []}, \n",
    "                   's': {'mean': [], 'std': [], 'min': [], 'max': []}}\n",
    "\n",
    "acc_ftr_val_map['x']['mean'] = calc_feature_val(sec_sen_arr, imu='acc', axis='x', func_name='mean')\n",
    "acc_ftr_val_map['x']['std'] = calc_feature_val(sec_sen_arr, imu='acc', axis='x', func_name='std')\n",
    "acc_ftr_val_map['x']['min'] = calc_feature_val(sec_sen_arr, imu='acc', axis='x', func_name='min')\n",
    "acc_ftr_val_map['x']['max'] = calc_feature_val(sec_sen_arr, imu='acc', axis='x', func_name='max')\n",
    "acc_ftr_val_map['x']['fft_mean'] = calc_feature_val(sec_sen_arr, imu='acc', axis='x', func_name='fft_mean')\n",
    "acc_ftr_val_map['x']['fft_std'] = calc_feature_val(sec_sen_arr, imu='acc', axis='x', func_name='fft_std')\n",
    "acc_ftr_val_map['x']['fft_entropy'] = calc_feature_val(sec_sen_arr, imu='acc', axis='x', func_name='fft_entropy')\n",
    "acc_ftr_val_map['x']['fft_energy'] = calc_feature_val(sec_sen_arr, imu='acc', axis='x', func_name='fft_energy')\n",
    "acc_ftr_val_map['x']['fft_skew'] = calc_feature_val(sec_sen_arr, imu='acc', axis='x', func_name='fft_skew')\n",
    "acc_ftr_val_map['x']['fft_kurt'] = calc_feature_val(sec_sen_arr, imu='acc', axis='x', func_name='fft_kurt')\n",
    "\n",
    "acc_ftr_val_map['y']['mean'] = calc_feature_val(sec_sen_arr, imu='acc', axis='y', func_name='mean')\n",
    "acc_ftr_val_map['y']['std'] = calc_feature_val(sec_sen_arr, imu='acc', axis='y', func_name='std')\n",
    "acc_ftr_val_map['y']['min'] = calc_feature_val(sec_sen_arr, imu='acc', axis='y', func_name='min')\n",
    "acc_ftr_val_map['y']['max'] = calc_feature_val(sec_sen_arr, imu='acc', axis='y', func_name='max')\n",
    "acc_ftr_val_map['y']['fft_mean'] = calc_feature_val(sec_sen_arr, imu='acc', axis='y', func_name='fft_mean')\n",
    "acc_ftr_val_map['y']['fft_std'] = calc_feature_val(sec_sen_arr, imu='acc', axis='y', func_name='fft_std')\n",
    "acc_ftr_val_map['y']['fft_entropy'] = calc_feature_val(sec_sen_arr, imu='acc', axis='y', func_name='fft_entropy')\n",
    "acc_ftr_val_map['y']['fft_energy'] = calc_feature_val(sec_sen_arr, imu='acc', axis='y', func_name='fft_energy')\n",
    "acc_ftr_val_map['y']['fft_skew'] = calc_feature_val(sec_sen_arr, imu='acc', axis='y', func_name='fft_skew')\n",
    "acc_ftr_val_map['y']['fft_kurt'] = calc_feature_val(sec_sen_arr, imu='acc', axis='y', func_name='fft_kurt')\n",
    "\n",
    "acc_ftr_val_map['z']['mean'] = calc_feature_val(sec_sen_arr, imu='acc', axis='z', func_name='mean')\n",
    "acc_ftr_val_map['z']['std'] = calc_feature_val(sec_sen_arr, imu='acc', axis='z', func_name='std')\n",
    "acc_ftr_val_map['z']['min'] = calc_feature_val(sec_sen_arr, imu='acc', axis='z', func_name='min')\n",
    "acc_ftr_val_map['z']['max'] = calc_feature_val(sec_sen_arr, imu='acc', axis='z', func_name='max')\n",
    "acc_ftr_val_map['z']['fft_mean'] = calc_feature_val(sec_sen_arr, imu='acc', axis='z', func_name='fft_mean')\n",
    "acc_ftr_val_map['z']['fft_std'] = calc_feature_val(sec_sen_arr, imu='acc', axis='z', func_name='fft_std')\n",
    "acc_ftr_val_map['z']['fft_entropy'] = calc_feature_val(sec_sen_arr, imu='acc', axis='z', func_name='fft_entropy')\n",
    "acc_ftr_val_map['z']['fft_energy'] = calc_feature_val(sec_sen_arr, imu='acc', axis='z', func_name='fft_energy')\n",
    "acc_ftr_val_map['z']['fft_skew'] = calc_feature_val(sec_sen_arr, imu='acc', axis='z', func_name='fft_skew')\n",
    "acc_ftr_val_map['z']['fft_kurt'] = calc_feature_val(sec_sen_arr, imu='acc', axis='z', func_name='fft_kurt')\n",
    "\n",
    "gy_ftr_val_map['x']['mean'] = calc_feature_val(sec_sen_arr, imu='gy', axis='x', func_name='mean')\n",
    "gy_ftr_val_map['x']['std'] = calc_feature_val(sec_sen_arr, imu='gy', axis='x', func_name='std')\n",
    "gy_ftr_val_map['x']['min'] = calc_feature_val(sec_sen_arr, imu='gy', axis='x', func_name='min')\n",
    "gy_ftr_val_map['x']['max'] = calc_feature_val(sec_sen_arr, imu='gy', axis='x', func_name='max')\n",
    "gy_ftr_val_map['x']['fft_mean'] = calc_feature_val(sec_sen_arr, imu='gy', axis='x', func_name='fft_mean')\n",
    "gy_ftr_val_map['x']['fft_std'] = calc_feature_val(sec_sen_arr, imu='gy', axis='x', func_name='fft_std')\n",
    "gy_ftr_val_map['x']['fft_entropy'] = calc_feature_val(sec_sen_arr, imu='gy', axis='x', func_name='fft_entropy')\n",
    "gy_ftr_val_map['x']['fft_energy'] = calc_feature_val(sec_sen_arr, imu='gy', axis='x', func_name='fft_energy')\n",
    "gy_ftr_val_map['x']['fft_skew'] = calc_feature_val(sec_sen_arr, imu='gy', axis='x', func_name='fft_skew')\n",
    "gy_ftr_val_map['x']['fft_kurt'] = calc_feature_val(sec_sen_arr, imu='gy', axis='x', func_name='fft_kurt')\n",
    "\n",
    "gy_ftr_val_map['y']['mean'] = calc_feature_val(sec_sen_arr, imu='gy', axis='y', func_name='mean')\n",
    "gy_ftr_val_map['y']['std'] = calc_feature_val(sec_sen_arr, imu='gy', axis='y', func_name='std')\n",
    "gy_ftr_val_map['y']['min'] = calc_feature_val(sec_sen_arr, imu='gy', axis='y', func_name='min')\n",
    "gy_ftr_val_map['y']['max'] = calc_feature_val(sec_sen_arr, imu='gy', axis='y', func_name='max')\n",
    "gy_ftr_val_map['y']['fft_mean'] = calc_feature_val(sec_sen_arr, imu='gy', axis='y', func_name='fft_mean')\n",
    "gy_ftr_val_map['y']['fft_std'] = calc_feature_val(sec_sen_arr, imu='gy', axis='y', func_name='fft_std')\n",
    "gy_ftr_val_map['y']['fft_entropy'] = calc_feature_val(sec_sen_arr, imu='gy', axis='y', func_name='fft_entropy')\n",
    "gy_ftr_val_map['y']['fft_energy'] = calc_feature_val(sec_sen_arr, imu='gy', axis='y', func_name='fft_energy')\n",
    "gy_ftr_val_map['y']['fft_skew'] = calc_feature_val(sec_sen_arr, imu='gy', axis='y', func_name='fft_skew')\n",
    "gy_ftr_val_map['y']['fft_kurt'] = calc_feature_val(sec_sen_arr, imu='gy', axis='y', func_name='fft_kurt')\n",
    "\n",
    "gy_ftr_val_map['z']['mean'] = calc_feature_val(sec_sen_arr, imu='gy', axis='z', func_name='mean')\n",
    "gy_ftr_val_map['z']['std'] = calc_feature_val(sec_sen_arr, imu='gy', axis='z', func_name='std')\n",
    "gy_ftr_val_map['z']['min'] = calc_feature_val(sec_sen_arr, imu='gy', axis='z', func_name='min')\n",
    "gy_ftr_val_map['z']['max'] = calc_feature_val(sec_sen_arr, imu='gy', axis='z', func_name='max')\n",
    "gy_ftr_val_map['z']['fft_mean'] = calc_feature_val(sec_sen_arr, imu='gy', axis='z', func_name='fft_mean')\n",
    "gy_ftr_val_map['z']['fft_std'] = calc_feature_val(sec_sen_arr, imu='gy', axis='z', func_name='fft_std')\n",
    "gy_ftr_val_map['z']['fft_entropy'] = calc_feature_val(sec_sen_arr, imu='gy', axis='z', func_name='fft_entropy')\n",
    "gy_ftr_val_map['z']['fft_energy'] = calc_feature_val(sec_sen_arr, imu='gy', axis='z', func_name='fft_energy')\n",
    "gy_ftr_val_map['z']['fft_skew'] = calc_feature_val(sec_sen_arr, imu='gy', axis='z', func_name='fft_skew')\n",
    "gy_ftr_val_map['z']['fft_kurt'] = calc_feature_val(sec_sen_arr, imu='gy', axis='z', func_name='fft_kurt')\n",
    "\n",
    "# grv_ftr_val_map['x']['mean'] = calc_feature_val(sec_sen_arr, imu='grv', axis='x', func_name='mean')\n",
    "# grv_ftr_val_map['x']['std'] = calc_feature_val(sec_sen_arr, imu='grv', axis='x', func_name='std')\n",
    "# grv_ftr_val_map['x']['min'] = calc_feature_val(sec_sen_arr, imu='grv', axis='x', func_name='min')\n",
    "# grv_ftr_val_map['x']['max'] = calc_feature_val(sec_sen_arr, imu='grv', axis='x', func_name='max')\n",
    "\n",
    "# grv_ftr_val_map['y']['mean'] = calc_feature_val(sec_sen_arr, imu='grv', axis='y', func_name='mean')\n",
    "# grv_ftr_val_map['y']['std'] = calc_feature_val(sec_sen_arr, imu='grv', axis='y', func_name='std')\n",
    "# grv_ftr_val_map['y']['min'] = calc_feature_val(sec_sen_arr, imu='grv', axis='y', func_name='min')\n",
    "# grv_ftr_val_map['y']['max'] = calc_feature_val(sec_sen_arr, imu='grv', axis='y', func_name='max')\n",
    "\n",
    "# grv_ftr_val_map['z']['mean'] = calc_feature_val(sec_sen_arr, imu='grv', axis='z', func_name='mean')\n",
    "# grv_ftr_val_map['z']['std'] = calc_feature_val(sec_sen_arr, imu='grv', axis='z', func_name='std')\n",
    "# grv_ftr_val_map['z']['min'] = calc_feature_val(sec_sen_arr, imu='grv', axis='z', func_name='min')\n",
    "# grv_ftr_val_map['z']['max'] = calc_feature_val(sec_sen_arr, imu='grv', axis='z', func_name='max')\n",
    "\n",
    "# grv_ftr_val_map['s']['mean'] = calc_feature_val(sec_sen_arr, imu='grv', axis='s', func_name='mean')\n",
    "# grv_ftr_val_map['s']['std'] = calc_feature_val(sec_sen_arr, imu='grv', axis='s', func_name='std')\n",
    "# grv_ftr_val_map['s']['min'] = calc_feature_val(sec_sen_arr, imu='grv', axis='s', func_name='min')\n",
    "# grv_ftr_val_map['s']['max'] = calc_feature_val(sec_sen_arr, imu='grv', axis='s', func_name='max')"
   ]
  },
  {
   "cell_type": "code",
   "execution_count": 38,
   "id": "5a925193",
   "metadata": {
    "pycharm": {
     "name": "#%%\n"
    }
   },
   "outputs": [],
   "source": [
    "version = 'v2.0'  # 特征版本号"
   ]
  },
  {
   "cell_type": "code",
   "execution_count": 39,
   "id": "cd8daa0f",
   "metadata": {
    "pycharm": {
     "name": "#%%\n"
    }
   },
   "outputs": [],
   "source": [
    "ftr_domain_conf_fd = open('rnn_%s_feature_%s' % (phone_pose, version), 'w')\n",
    "\n",
    "ftr_cnt = 0\n",
    "if version == 'v1.0':\n",
    "    func_name_set = {'mean', 'std', 'min', 'max'}\n",
    "elif version == 'v2.0':\n",
    "    func_name_set = {'mean', 'std', 'min', 'max', 'fft_mean', 'fft_std', \n",
    "                     'fft_entropy', 'fft_energy', 'fft_skew', 'fft_kurt'}\n",
    "else:\n",
    "    raise ValueError('version is illegal.')\n",
    "\n",
    "for axis in ['x', 'y', 'z']:\n",
    "    for func_name in func_name_set:\n",
    "        try:\n",
    "            _, min_val, dft_val, _, max_val, _ = calc_feature_domain(acc_ftr_val_map[axis][func_name])\n",
    "        except Exception as e:\n",
    "            continue\n",
    "        else:\n",
    "            ftr_domain_conf_fd.write('acc_%s_%s,%d,%.2f,%.2f,%.2f\\n' \\\n",
    "                                     % (axis, func_name, ftr_cnt, min_val, max_val, dft_val))\n",
    "            ftr_cnt += 1\n",
    "\n",
    "for axis in ['x', 'y', 'z']:\n",
    "    for func_name in func_name_set:\n",
    "        try:\n",
    "            _, min_val, dft_val, _, max_val, _ = calc_feature_domain(gy_ftr_val_map[axis][func_name])\n",
    "        except Exception as e:\n",
    "            continue\n",
    "        else:\n",
    "            ftr_domain_conf_fd.write('gy_%s_%s,%d,%.2f,%.2f,%.2f\\n' \\\n",
    "                                     % (axis, func_name, ftr_cnt, min_val, max_val, dft_val))\n",
    "            ftr_cnt += 1\n",
    "        \n",
    "# for axis in ['x', 'y', 'z', 's']:\n",
    "#     for func_name in ['mean', 'std', 'min', 'max', 'fft_mean', 'fft_std', \n",
    "#                       'fft_entropy', 'fft_energy', 'fft_skew', 'fft_kurt']:\n",
    "#         try:\n",
    "#             _, min_val, dft_val, _, max_val, _ = calc_feature_domain(grv_ftr_val_map[axis][func_name])\n",
    "#         except Exception as e:\n",
    "#             continue\n",
    "#         else:\n",
    "#             ftr_domain_conf_fd.write('grv_%s_%s,%d,%.2f,%.2f,%.2f\\n' \\\n",
    "#                                      % (axis, func_name, ftr_cnt, min_val, max_val, dft_val))\n",
    "#             ftr_cnt += 1\n",
    "\n",
    "ftr_domain_conf_fd.close()"
   ]
  },
  {
   "cell_type": "code",
   "execution_count": null,
   "id": "cf53e49f",
   "metadata": {
    "pycharm": {
     "name": "#%%\n"
    }
   },
   "outputs": [],
   "source": []
  },
  {
   "cell_type": "markdown",
   "id": "5fbe3116",
   "metadata": {
    "pycharm": {
     "name": "#%% md\n"
    }
   },
   "source": [
    "## 数据展示"
   ]
  },
  {
   "cell_type": "code",
   "execution_count": 24,
   "id": "906a55da",
   "metadata": {
    "pycharm": {
     "name": "#%%\n"
    }
   },
   "outputs": [
    {
     "name": "stdout",
     "output_type": "stream",
     "text": [
      "-2.12,-1.76,-0.07,0.02,2.10,2.49\n"
     ]
    }
   ],
   "source": [
    "perc1_val, perc5_val, median_val, \\\n",
    "mean_val, perc95_val, perc99_val = calc_feature_domain(acc_ftr_val_map['z']['mean'])\n",
    "print('%.2f,%.2f,%.2f,%.2f,%.2f,%.2f' \\\n",
    "      % (perc1_val, perc5_val, median_val, mean_val, perc95_val, perc99_val))"
   ]
  },
  {
   "cell_type": "code",
   "execution_count": 25,
   "id": "a617802f",
   "metadata": {
    "pycharm": {
     "name": "#%%\n"
    }
   },
   "outputs": [
    {
     "data": {
      "image/png": "[encoded data removed]",
      "text/plain": [
       "<Figure size 648x432 with 1 Axes>"
      ]
     },
     "metadata": {
      "needs_background": "light"
     },
     "output_type": "display_data"
    }
   ],
   "source": [
    "fig, ax = plt.subplots(figsize=(9, 6))\n",
    "ax.hist(acc_ftr_val_map['y']['mean'], bins=100, density=True, alpha=0.75, color='SteelBlue')\n",
    "plt.show()"
   ]
  },
  {
   "cell_type": "code",
   "execution_count": 10,
   "id": "01995671",
   "metadata": {
    "pycharm": {
     "name": "#%%\n"
    }
   },
   "outputs": [
    {
     "name": "stdout",
     "output_type": "stream",
     "text": [
      "(0.07177968766052467, 0.09166734957927443, 0.1703840072832948, 0.2074900161251042, 0.5216424952665748, 0.7931629919701098)\n"
     ]
    }
   ],
   "source": [
    "print(calc_feature_domain(acc_ftr_val_map['x']['fft_mean']))"
   ]
  },
  {
   "cell_type": "code",
   "execution_count": null,
   "id": "ccfafb1d",
   "metadata": {
    "pycharm": {
     "name": "#%%\n"
    }
   },
   "outputs": [],
   "source": []
  }
 ],
 "metadata": {
  "kernelspec": {
   "display_name": "Python 3 (ipykernel)",
   "language": "python",
   "name": "python3"
  },
  "language_info": {
   "codemirror_mode": {
    "name": "ipython",
    "version": 3
   },
   "file_extension": ".py",
   "mimetype": "text/x-python",
   "name": "python",
   "nbconvert_exporter": "python",
   "pygments_lexer": "ipython3",
   "version": "3.8.9"
  }
 },
 "nbformat": 4,
 "nbformat_minor": 5
}