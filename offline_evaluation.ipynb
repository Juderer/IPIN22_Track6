{
 "cells": [
  {
   "cell_type": "markdown",
   "id": "3acae92b",
   "metadata": {},
   "source": [
    "- DOING\n",
    "    - 使用`./trial`目录下的txt文件模拟流程（可以按GNSS时间戳判断是否缺数据）\n",
    "    - 使用提供的**trialname**测试\n",
    "        - `T62288821d9d01`\n",
    "        - `T62288821d9d02`"
   ]
  },
  {
   "cell_type": "code",
   "execution_count": 1,
   "id": "af355f77",
   "metadata": {},
   "outputs": [],
   "source": [
    "import requests\n",
    "import numpy as np\n",
    "import torch\n",
    "import time\n",
    "import copy\n",
    "from parse import parse\n",
    "\n",
    "from spd_dnn import *\n",
    "from data_struct import *\n",
    "from ftr_generator import *\n",
    "from coord_utils import *\n"
   ]
  },
  {
   "cell_type": "markdown",
   "id": "5525b6ee",
   "metadata": {},
   "source": [
    "# 算法流程"
   ]
  },
  {
   "cell_type": "markdown",
   "id": "d51a5e8e",
   "metadata": {},
   "source": [
    "## 航向推算"
   ]
  },
  {
   "cell_type": "code",
   "execution_count": 2,
   "id": "50705a46",
   "metadata": {},
   "outputs": [],
   "source": [
    "def infer_bearing(sec_gyro_unit_list, crnt_brng, collect_hz=250):\n",
    "    gy_ys = [u.sen_y for u in sec_gyro_unit_list]\n",
    "    bearing_diff = np.sum(gy_ys) / collect_hz * -1.0\n",
    "    return (crnt_brng + bearing_diff) % 360.0"
   ]
  },
  {
   "cell_type": "markdown",
   "id": "ae2825eb",
   "metadata": {},
   "source": [
    "## 速度推算"
   ]
  },
  {
   "cell_type": "code",
   "execution_count": 3,
   "id": "0c731580",
   "metadata": {},
   "outputs": [
    {
     "name": "stdout",
     "output_type": "stream",
     "text": [
      "Load trained model: ./spd_dnn_weight_ftrHz25.pt\n"
     ]
    }
   ],
   "source": [
    "ftr_hz = 25\n",
    "collect_hz = 250\n",
    "\n",
    "model = load_spd_dnn(trained_model='./spd_dnn_weight_ftrHz%d.pt' % ftr_hz,\n",
    "                     ftr_hz=ftr_hz, collect_hz=collect_hz)\n",
    "model.eval()\n",
    "\n",
    "ftr_gen = ftrGenerator(ftr_hz=ftr_hz, collect_hz=collect_hz)"
   ]
  },
  {
   "cell_type": "code",
   "execution_count": 4,
   "id": "647d4cd1",
   "metadata": {},
   "outputs": [],
   "source": [
    "def calibrate_sample_freq(imu_unit_list, collect_hz=250):\n",
    "    if len(imu_unit_list) < collect_hz:\n",
    "        imu_unit_list.extend([copy.deepcopy(imu_unit_list[-1])] * (collect_hz - len(imu_unit_list)))\n",
    "    elif len(imu_unit_list) > collect_hz:\n",
    "        imu_unit_list = imu_unit_list[-collect_hz:]\n",
    "    else:\n",
    "        pass\n",
    "    return imu_unit_list\n",
    "\n",
    "\n",
    "def infer_speed(sec_acc_unit_list, sec_gyro_unit_list, crnt_spd,\n",
    "                model=None, ftr_gen=None, collect_hz=250):\n",
    "    sec_acc_unit_list = calibrate_sample_freq(sec_acc_unit_list, collect_hz=collect_hz)\n",
    "    sec_gyro_unit_lis = calibrate_sample_freq(sec_gyro_unit_list, collect_hz=collect_hz)\n",
    "    acc_ftr_list = ftr_gen.calc_imu_sec_ftr(sec_acc_unit_list)\n",
    "    gy_ftr_list = ftr_gen.calc_imu_sec_ftr(sec_gyro_unit_lis)\n",
    "\n",
    "    acc = torch.tensor([[acc_ftr_list]], dtype=torch.float).permute(0, 2, 1)\n",
    "    gy = torch.tensor([[gy_ftr_list]], dtype=torch.float).permute(0, 2, 1)\n",
    "    init_spd = torch.tensor([[[crnt_spd]]], dtype=torch.float)\n",
    "    pred = model(acc, gy, init_spd=init_spd)\n",
    "    spd_diff = pred.cpu().detach().squeeze().numpy().tolist()\n",
    "\n",
    "    return max(0.0, min(33.0, crnt_spd + spd_diff))"
   ]
  },
  {
   "cell_type": "markdown",
   "id": "fcda793e",
   "metadata": {},
   "source": [
    "# 服务端配置及请求"
   ]
  },
  {
   "cell_type": "markdown",
   "id": "0e752e15",
   "metadata": {},
   "source": [
    "- 使用官方服务器测试"
   ]
  },
  {
   "cell_type": "code",
   "execution_count": 36,
   "id": "a76ad497",
   "metadata": {},
   "outputs": [],
   "source": [
    "server = 'https://evaal.aaloa.org/evaalapi/'\n",
    "trialname = 'T62288821d9d02'\n",
    "\n",
    "estfmt = \"{pts:.3f},{c:.3f},{h:.3f},{s:.3f},{pos}\"\n",
    "statefmt = \"{trialts:.3f},{rem:.3f},{V:.3f},{S:.3f},{p:.3f},{h:.3f},{pts:.3f},{pos}\""
   ]
  },
  {
   "cell_type": "markdown",
   "id": "f4ce60a1",
   "metadata": {},
   "source": [
    "- 使用本地服务器测试"
   ]
  },
  {
   "cell_type": "code",
   "execution_count": 37,
   "id": "3c44cd8b",
   "metadata": {},
   "outputs": [],
   "source": [
    "# server = 'http://127.0.0.1:5000/evaalapi/'\n",
    "# trialname = 'demo1'\n",
    "\n",
    "# estfmt = \"{pts:.3f},{c:.3f},{h:.3f},{s:.3f},{pos}\"\n",
    "# statefmt = \"{trialts:.3f},{rem:.3f},{V:.3f},{S:.3f},{p:.3f},{h:.3f},{pts:.3f},{pos}\""
   ]
  },
  {
   "cell_type": "code",
   "execution_count": 25,
   "id": "26ad2e1a",
   "metadata": {},
   "outputs": [],
   "source": [
    "def do_state():\n",
    "    r = requests.get(server + trialname + '/state')\n",
    "    print(r.text)\n",
    "    s = parse(statefmt, r.text)\n",
    "    return s.named\n",
    "    \n",
    "    \n",
    "def do_reload():\n",
    "    r = requests.get(server + trialname + '/reload')\n",
    "    s = parse(statefmt, r.text)\n",
    "    print(s.named)"
   ]
  },
  {
   "cell_type": "code",
   "execution_count": 26,
   "id": "f68022fe",
   "metadata": {},
   "outputs": [],
   "source": [
    "def parse_response(text):\n",
    "    sen_str_list = text.splitlines()\n",
    "    acc_unit_list, gy_unit_list = [], []\n",
    "    gnss_unit = None\n",
    "    for sen_str in sen_str_list:\n",
    "        if sen_str.startswith('ACCE'):\n",
    "            acc_unit_list.append(acceUnit(sen_str))\n",
    "        elif sen_str.startswith('GYRO'):\n",
    "            gy_unit_list.append(gyroUnit(sen_str))\n",
    "        elif sen_str.startswith('GNSS'):\n",
    "            gnss_unit = gnssUnit(sen_str)\n",
    "        else:\n",
    "            continue\n",
    "    return acc_unit_list, gy_unit_list, gnss_unit\n",
    "\n",
    "\n",
    "def estimate_next_loc(acc_unit_list, gy_unit_list, gnss_unit, \n",
    "                      model=None, ftr_gen=None, ftr_hz=50, collect_hz=250):\n",
    "    crnt_brng = gnss_unit.bearing\n",
    "    crnt_spd = gnss_unit.loc_speed\n",
    "    if crnt_spd < 0:\n",
    "        crnt_spd = gnss_unit.speed\n",
    "    \n",
    "    next_brng = infer_bearing(gy_unit_list, crnt_brng, collect_hz=collect_hz)\n",
    "    next_spd = infer_speed(acc_unit_list, gy_unit_list, crnt_spd, \n",
    "                           model=model, ftr_gen=ftr_gen, collect_hz=collect_hz)\n",
    "    \n",
    "    next_lng, next_lat = geo_util.position_from_angle_and_dist(gnss_unit.lng, gnss_unit.lat, \n",
    "                                                               next_brng, next_spd)\n",
    "    return next_lng, next_lat, next_spd, next_brng\n",
    "\n",
    "\n",
    "def estimate_next_loc_by_pred(acc_unit_list, gy_unit_list, pred_loc, \n",
    "                              model=None, ftr_gen=None, ftr_hz=50, collect_hz=250):\n",
    "    crnt_lng, crnt_lat, crnt_spd, crnt_brng = pred_loc\n",
    "    next_brng = infer_bearing(gy_unit_list, crnt_brng, collect_hz=collect_hz)\n",
    "    next_spd = infer_speed(acc_unit_list, gy_unit_list, crnt_spd, \n",
    "                           model=model, ftr_gen=ftr_gen, collect_hz=collect_hz)\n",
    "    next_lng, next_lat = geo_util.position_from_angle_and_dist(crnt_lng, crnt_lat, \n",
    "                                                               next_brng, next_spd)\n",
    "    return next_lng, next_lat, next_spd, next_brng\n",
    "    \n",
    "    \n",
    "def estimate_next_loc_by_dft(crnt_lng, crnt_lat, crnt_spd, crnt_brng):\n",
    "    next_brng, next_spd = crnt_brng, crnt_spd\n",
    "    next_lng, next_lat = geo_util.position_from_angle_and_dist(crnt_lng, crnt_lat, \n",
    "                                                               next_brng, next_spd)\n",
    "    return next_lng, next_lat, next_spd, next_brng\n",
    "    "
   ]
  },
  {
   "cell_type": "code",
   "execution_count": 38,
   "id": "f18cab9f",
   "metadata": {
    "scrolled": true
   },
   "outputs": [
    {
     "name": "stdout",
     "output_type": "stream",
     "text": [
      "{'trialts': 0.0, 'rem': -1.0, 'V': 9.0, 'S': 45.0, 'p': 0.0, 'h': 0.0, 'pts': 0.0, 'pos': '0,0,0'}\n",
      "0.000,-1.000,9.000,45.000,0.000,0.000,0.000,0,0,0\n",
      "testing start...\n",
      "463414.000,53.205,9.000,45.000,1661970438.318,1.000,463413.000,0,0,0\n",
      "463415.000,53.022,9.000,45.000,1661970439.894,1.000,463414.000,40.225612;116.183918;0.0\n",
      "463416.000,52.526,9.000,45.000,1661970441.922,1.000,463415.000,40.225617;116.183916;0.0\n",
      "463417.000,52.753,9.000,45.000,1661970444.704,1.000,463416.000,40.225599;116.183861;0.0\n",
      "463418.000,52.578,9.000,45.000,1661970446.734,1.000,463417.000,40.225643;116.183909;0.0\n",
      "463419.000,52.702,9.000,45.000,1661970449.293,1.000,463418.000,40.225656;116.183889;0.0\n",
      "463420.000,52.710,9.000,45.000,1661970451.555,1.000,463419.000,40.225645;116.183910;0.0\n",
      "463421.000,52.386,9.000,45.000,1661970454.157,1.000,463420.000,40.225642;116.183891;0.0\n",
      "463422.000,52.652,9.000,45.000,1661970456.627,1.000,463421.000,40.225642;116.183879;0.0\n",
      "250\n",
      "250\n",
      "463423.000,51.984,9.000,45.000,1661970459.300,1.000,463422.000,40.225628;116.183848;0.0\n",
      "463424.000,52.641,9.000,45.000,1661970462.519,1.000,463423.000,40.225639;116.183857;0.0\n",
      "463425.000,52.938,9.000,45.000,1661970464.746,1.000,463424.000,40.225618;116.183819;0.0\n",
      "463426.000,52.813,9.000,45.000,1661970466.987,1.000,463425.000,40.225618;116.183813;0.0\n",
      "463427.000,52.354,9.000,45.000,1661970469.283,1.000,463426.000,40.225614;116.183806;0.0\n",
      "463428.000,52.812,9.000,45.000,1661970472.134,1.000,463427.000,40.225610;116.183799;0.0\n",
      "463429.000,52.973,9.000,45.000,1661970474.133,1.000,463428.000,40.225610;116.183798;0.0\n",
      "463430.000,52.625,9.000,45.000,1661970476.327,1.000,463429.000,40.225608;116.183799;0.0\n",
      "463431.000,52.706,9.000,45.000,1661970478.627,1.000,463430.000,40.225604;116.183827;0.0\n",
      "463432.000,52.526,9.000,45.000,1661970480.915,1.000,463431.000,40.225604;116.183858;0.0\n",
      "463433.000,52.820,9.000,45.000,1661970483.223,1.000,463432.000,40.225596;116.183840;0.0\n",
      "463434.000,52.862,9.000,45.000,1661970485.200,1.000,463433.000,40.225587;116.183832;0.0\n",
      "463435.000,52.120,9.000,45.000,1661970487.551,1.000,463434.000,40.225591;116.183829;0.0\n",
      "463436.000,52.755,9.000,45.000,1661970490.585,1.000,463435.000,40.225591;116.183835;0.0\n",
      "463437.000,52.933,9.000,45.000,1661970492.746,1.000,463436.000,40.225585;116.183851;0.0\n",
      "463438.000,52.604,9.000,45.000,1661970494.597,1.000,463437.000,40.225582;116.183870;0.0\n",
      "463439.000,52.936,9.000,45.000,1661970496.894,1.000,463438.000,40.225582;116.183871;0.0\n",
      "463440.000,52.315,9.000,45.000,1661970499.057,1.000,463439.000,40.225581;116.183871;0.0\n",
      "463441.000,52.211,9.000,45.000,1661970501.979,1.000,463440.000,40.225580;116.183868;0.0\n",
      "463442.000,52.913,9.000,45.000,1661970504.603,1.000,463441.000,40.225579;116.183867;0.0\n",
      "463443.000,52.957,9.000,45.000,1661970506.449,1.000,463442.000,40.225576;116.183867;0.0\n",
      "463444.000,52.563,9.000,45.000,1661970508.317,1.000,463443.000,40.225574;116.183865;0.0\n",
      "463445.000,51.824,9.000,45.000,1661970511.307,1.000,463444.000,40.225573;116.183866;0.0\n",
      "463446.000,51.939,9.000,45.000,1661970514.668,1.000,463445.000,40.225572;116.183869;0.0\n",
      "463447.000,52.930,9.000,45.000,1661970517.717,1.000,463446.000,40.225571;116.183873;0.0\n",
      "463448.000,52.949,9.000,45.000,1661970519.576,1.000,463447.000,40.225570;116.183876;0.0\n",
      "463449.000,52.908,9.000,45.000,1661970521.438,1.000,463448.000,40.225570;116.183876;0.0\n",
      "463450.000,52.702,9.000,45.000,1661970523.367,1.000,463449.000,40.225570;116.183876;0.0\n",
      "463451.000,52.699,9.000,45.000,1661970525.690,1.000,463450.000,40.225570;116.183876;0.0\n",
      "463452.000,52.436,9.000,45.000,1661970528.179,1.000,463451.000,40.225570;116.183876;0.0\n",
      "463453.000,52.450,9.000,45.000,1661970530.979,1.000,463452.000,40.225570;116.183876;0.0\n",
      "463454.000,52.476,9.000,45.000,1661970533.487,1.000,463453.000,40.225570;116.183876;0.0\n",
      "463455.000,52.952,9.000,45.000,1661970535.931,1.000,463454.000,40.225570;116.183876;0.0\n",
      "463456.000,52.880,9.000,45.000,1661970537.814,1.000,463455.000,40.225570;116.183876;0.0\n",
      "463457.000,52.412,9.000,45.000,1661970539.787,1.000,463456.000,40.225570;116.183876;0.0\n",
      "463458.000,52.643,9.000,45.000,1661970542.609,1.000,463457.000,40.225570;116.183876;0.0\n",
      "463459.000,52.617,9.000,45.000,1661970544.748,1.000,463458.000,40.225570;116.183876;0.0\n",
      "463460.000,52.782,9.000,45.000,1661970547.349,1.000,463459.000,40.225570;116.183876;0.0\n",
      "463461.000,52.480,9.000,45.000,1661970549.729,1.000,463460.000,40.225570;116.183876;0.0\n",
      "463462.000,52.989,9.000,45.000,1661970552.072,1.000,463461.000,40.225570;116.183876;0.0\n",
      "463463.000,52.939,9.000,45.000,1661970553.890,1.000,463462.000,40.225570;116.183876;0.0\n",
      "463464.000,52.605,9.000,45.000,1661970555.799,1.000,463463.000,40.225570;116.183876;0.0\n",
      "463465.000,52.939,9.000,45.000,1661970558.103,1.000,463464.000,40.225570;116.183876;0.0\n",
      "463466.000,52.921,9.000,45.000,1661970560.217,1.000,463465.000,40.225570;116.183876;0.0\n",
      "463467.000,52.749,9.000,45.000,1661970562.138,1.000,463466.000,40.225570;116.183876;0.0\n",
      "463468.000,52.860,9.000,45.000,1661970564.640,1.000,463467.000,40.225570;116.183876;0.0\n",
      "463469.000,50.808,9.000,45.000,1661970566.693,1.000,463468.000,40.225570;116.183876;0.0\n",
      "463470.000,52.985,9.000,45.000,1661970570.752,1.000,463469.000,40.225570;116.183876;0.0\n",
      "463471.000,52.927,9.000,45.000,1661970572.540,1.000,463470.000,40.225570;116.183876;0.0\n",
      "463472.000,52.880,9.000,45.000,1661970574.430,1.000,463471.000,40.225570;116.183876;0.0\n",
      "463473.000,52.827,9.000,45.000,1661970576.603,1.000,463472.000,40.225570;116.183876;0.0\n",
      "463474.000,52.963,9.000,45.000,1661970578.576,1.000,463473.000,40.225570;116.183876;0.0\n",
      "463475.000,52.778,9.000,45.000,1661970580.368,1.000,463474.000,40.225570;116.183876;0.0\n",
      "463476.000,52.848,9.000,45.000,1661970582.669,1.000,463475.000,40.225570;116.183876;0.0\n",
      "463477.000,52.775,9.000,45.000,1661970584.585,1.000,463476.000,40.225570;116.183876;0.0\n",
      "463478.000,51.577,9.000,45.000,1661970587.942,1.000,463477.000,40.225570;116.183876;0.0\n",
      "463479.000,51.369,9.000,45.000,1661970593.313,1.000,463478.000,40.225570;116.183876;0.0\n",
      "463480.000,52.928,9.000,45.000,1661970596.889,1.000,463479.000,40.225570;116.183876;0.0\n",
      "463481.000,52.535,9.000,45.000,1661970598.730,1.000,463480.000,40.225570;116.183876;0.0\n",
      "463482.000,52.566,9.000,45.000,1661970601.341,1.000,463481.000,40.225570;116.183876;0.0\n",
      "463483.000,48.972,9.000,45.000,1661970603.615,1.000,463482.000,40.225570;116.183876;0.0\n",
      "463484.000,52.795,9.000,45.000,1661970609.703,1.000,463483.000,40.225570;116.183876;0.0\n",
      "463485.000,52.948,9.000,45.000,1661970611.707,1.000,463484.000,40.225570;116.183876;0.0\n",
      "463486.000,52.888,9.000,45.000,1661970613.579,1.000,463485.000,40.225570;116.183876;0.0\n",
      "463487.000,52.452,9.000,45.000,1661970615.856,1.000,463486.000,40.225570;116.183876;0.0\n",
      "108\n",
      "109\n",
      "463488.000,52.686,9.000,45.000,1661970618.550,1.000,463487.000,40.225570;116.183876;0.0\n",
      "5\n",
      "5\n",
      "463489.000,53.165,9.000,45.000,1661970620.789,1.000,463488.000,40.225575;116.183879;0.0\n",
      "463490.000,52.582,9.000,45.000,1661970622.566,1.000,463489.000,40.225581;116.183883;0.0\n",
      "463491.000,52.966,9.000,45.000,1661970624.764,1.000,463490.000,40.225570;116.183876;0.0\n",
      "463492.000,52.769,9.000,45.000,1661970626.821,1.000,463491.000,40.225570;116.183876;0.0\n",
      "463493.000,52.944,9.000,45.000,1661970628.841,1.000,463492.000,40.225570;116.183876;0.0\n",
      "463494.000,52.655,9.000,45.000,1661970630.692,1.000,463493.000,40.225570;116.183876;0.0\n",
      "463495.000,52.720,9.000,45.000,1661970633.129,1.000,463494.000,40.225570;116.183876;0.0\n",
      "463496.000,52.632,9.000,45.000,1661970635.201,1.000,463495.000,40.225570;116.183876;0.0\n",
      "463497.000,52.477,9.000,45.000,1661970638.869,1.000,463496.000,40.225570;116.183876;0.0\n",
      "463498.000,52.488,9.000,45.000,1661970641.448,1.000,463497.000,40.225570;116.183876;0.0\n",
      "463499.000,52.738,9.000,45.000,1661970643.831,1.000,463498.000,40.225570;116.183876;0.0\n",
      "463500.000,52.785,9.000,45.000,1661970646.106,1.000,463499.000,40.225570;116.183876;0.0\n",
      "463501.000,52.435,9.000,45.000,1661970649.421,1.000,463500.000,40.225570;116.183876;0.0\n",
      "463502.000,52.644,9.000,45.000,1661970651.924,1.000,463501.000,40.225570;116.183876;0.0\n",
      "463503.000,52.914,9.000,45.000,1661970654.149,1.000,463502.000,40.225570;116.183876;0.0\n",
      "463504.000,52.691,9.000,45.000,1661970656.888,1.000,463503.000,40.225570;116.183876;0.0\n",
      "463505.000,52.523,9.000,45.000,1661970659.343,1.000,463504.000,40.225570;116.183876;0.0\n"
     ]
    },
    {
     "name": "stdout",
     "output_type": "stream",
     "text": [
      "463506.000,52.881,9.000,45.000,1661970661.728,1.000,463505.000,40.225570;116.183876;0.0\n",
      "463507.000,52.696,9.000,45.000,1661970663.768,1.000,463506.000,40.225570;116.183876;0.0\n",
      "463508.000,52.978,9.000,45.000,1661970665.851,1.000,463507.000,40.225570;116.183876;0.0\n",
      "463509.000,52.589,9.000,45.000,1661970667.928,1.000,463508.000,40.225570;116.183876;0.0\n",
      "463510.000,52.525,9.000,45.000,1661970670.650,1.000,463509.000,40.225570;116.183876;0.0\n",
      "463511.000,51.658,9.000,45.000,1661970672.972,1.000,463510.000,40.225570;116.183876;0.0\n",
      "463512.000,52.927,9.000,45.000,1661970676.147,1.000,463511.000,40.225570;116.183876;0.0\n",
      "463513.000,51.873,9.000,45.000,1661970679.007,1.000,463512.000,40.225570;116.183876;0.0\n",
      "463514.000,52.969,9.000,45.000,1661970682.015,1.000,463513.000,40.225570;116.183876;0.0\n",
      "248\n",
      "249\n",
      "463515.000,51.867,9.000,45.000,1661970684.250,1.000,463514.000,40.225570;116.183876;0.0\n",
      "463516.000,52.936,9.000,45.000,1661970687.333,1.000,463515.000,40.225570;116.183876;0.0\n",
      "463517.000,52.889,9.000,45.000,1661970689.205,1.000,463516.000,40.225570;116.183876;0.0\n",
      "463518.000,52.336,9.000,45.000,1661970691.126,1.000,463517.000,40.225570;116.183876;0.0\n",
      "463519.000,52.991,9.000,45.000,1661970693.566,1.000,463518.000,40.225570;116.183876;0.0\n",
      "463520.000,52.486,9.000,45.000,1661970695.599,1.000,463519.000,40.225570;116.183876;0.0\n",
      "463521.000,52.780,9.000,45.000,1661970697.937,1.000,463520.000,40.225570;116.183876;0.0\n",
      "463522.000,51.545,9.000,45.000,1661970700.183,1.000,463521.000,40.225570;116.183876;0.0\n",
      "463523.000,52.961,9.000,45.000,1661970703.525,1.000,463522.000,40.225570;116.183876;0.0\n",
      "463524.000,52.266,9.000,45.000,1661970705.554,1.000,463523.000,40.225570;116.183876;0.0\n",
      "463525.000,52.858,9.000,45.000,1661970708.219,1.000,463524.000,40.225570;116.183876;0.0\n"
     ]
    },
    {
     "ename": "KeyboardInterrupt",
     "evalue": "",
     "output_type": "error",
     "traceback": [
      "\u001b[0;31m---------------------------------------------------------------------------\u001b[0m",
      "\u001b[0;31mKeyboardInterrupt\u001b[0m                         Traceback (most recent call last)",
      "\u001b[0;32m/var/folders/1x/v4llgc1s3w3bps6yn22mkdj40000gn/T/ipykernel_55496/3776782242.py\u001b[0m in \u001b[0;36m<module>\u001b[0;34m\u001b[0m\n\u001b[1;32m     10\u001b[0m \u001b[0mdo_reload\u001b[0m\u001b[0;34m(\u001b[0m\u001b[0;34m)\u001b[0m\u001b[0;34m\u001b[0m\u001b[0;34m\u001b[0m\u001b[0m\n\u001b[1;32m     11\u001b[0m \u001b[0;32mwhile\u001b[0m \u001b[0;32mTrue\u001b[0m\u001b[0;34m:\u001b[0m\u001b[0;34m\u001b[0m\u001b[0;34m\u001b[0m\u001b[0m\n\u001b[0;32m---> 12\u001b[0;31m     \u001b[0ms\u001b[0m \u001b[0;34m=\u001b[0m \u001b[0mdo_state\u001b[0m\u001b[0;34m(\u001b[0m\u001b[0;34m)\u001b[0m\u001b[0;34m\u001b[0m\u001b[0;34m\u001b[0m\u001b[0m\n\u001b[0m\u001b[1;32m     13\u001b[0m     \u001b[0;32mif\u001b[0m \u001b[0ms\u001b[0m\u001b[0;34m[\u001b[0m\u001b[0;34m'trialts'\u001b[0m\u001b[0;34m]\u001b[0m \u001b[0;34m==\u001b[0m \u001b[0;36m0.0\u001b[0m\u001b[0;34m:\u001b[0m\u001b[0;34m\u001b[0m\u001b[0;34m\u001b[0m\u001b[0m\n\u001b[1;32m     14\u001b[0m         \u001b[0mprint\u001b[0m\u001b[0;34m(\u001b[0m\u001b[0;34m'testing start...'\u001b[0m\u001b[0;34m)\u001b[0m\u001b[0;34m\u001b[0m\u001b[0;34m\u001b[0m\u001b[0m\n",
      "\u001b[0;32m/var/folders/1x/v4llgc1s3w3bps6yn22mkdj40000gn/T/ipykernel_55496/1516840135.py\u001b[0m in \u001b[0;36mdo_state\u001b[0;34m()\u001b[0m\n\u001b[1;32m      1\u001b[0m \u001b[0;32mdef\u001b[0m \u001b[0mdo_state\u001b[0m\u001b[0;34m(\u001b[0m\u001b[0;34m)\u001b[0m\u001b[0;34m:\u001b[0m\u001b[0;34m\u001b[0m\u001b[0;34m\u001b[0m\u001b[0m\n\u001b[0;32m----> 2\u001b[0;31m     \u001b[0mr\u001b[0m \u001b[0;34m=\u001b[0m \u001b[0mrequests\u001b[0m\u001b[0;34m.\u001b[0m\u001b[0mget\u001b[0m\u001b[0;34m(\u001b[0m\u001b[0mserver\u001b[0m \u001b[0;34m+\u001b[0m \u001b[0mtrialname\u001b[0m \u001b[0;34m+\u001b[0m \u001b[0;34m'/state'\u001b[0m\u001b[0;34m)\u001b[0m\u001b[0;34m\u001b[0m\u001b[0;34m\u001b[0m\u001b[0m\n\u001b[0m\u001b[1;32m      3\u001b[0m     \u001b[0mprint\u001b[0m\u001b[0;34m(\u001b[0m\u001b[0mr\u001b[0m\u001b[0;34m.\u001b[0m\u001b[0mtext\u001b[0m\u001b[0;34m)\u001b[0m\u001b[0;34m\u001b[0m\u001b[0;34m\u001b[0m\u001b[0m\n\u001b[1;32m      4\u001b[0m     \u001b[0ms\u001b[0m \u001b[0;34m=\u001b[0m \u001b[0mparse\u001b[0m\u001b[0;34m(\u001b[0m\u001b[0mstatefmt\u001b[0m\u001b[0;34m,\u001b[0m \u001b[0mr\u001b[0m\u001b[0;34m.\u001b[0m\u001b[0mtext\u001b[0m\u001b[0;34m)\u001b[0m\u001b[0;34m\u001b[0m\u001b[0;34m\u001b[0m\u001b[0m\n\u001b[1;32m      5\u001b[0m     \u001b[0;32mreturn\u001b[0m \u001b[0ms\u001b[0m\u001b[0;34m.\u001b[0m\u001b[0mnamed\u001b[0m\u001b[0;34m\u001b[0m\u001b[0;34m\u001b[0m\u001b[0m\n",
      "\u001b[0;32m/usr/local/pyenvs/python3.8.9-universal/lib/python3.8/site-packages/requests/api.py\u001b[0m in \u001b[0;36mget\u001b[0;34m(url, params, **kwargs)\u001b[0m\n\u001b[1;32m     73\u001b[0m     \"\"\"\n\u001b[1;32m     74\u001b[0m \u001b[0;34m\u001b[0m\u001b[0m\n\u001b[0;32m---> 75\u001b[0;31m     \u001b[0;32mreturn\u001b[0m \u001b[0mrequest\u001b[0m\u001b[0;34m(\u001b[0m\u001b[0;34m'get'\u001b[0m\u001b[0;34m,\u001b[0m \u001b[0murl\u001b[0m\u001b[0;34m,\u001b[0m \u001b[0mparams\u001b[0m\u001b[0;34m=\u001b[0m\u001b[0mparams\u001b[0m\u001b[0;34m,\u001b[0m \u001b[0;34m**\u001b[0m\u001b[0mkwargs\u001b[0m\u001b[0;34m)\u001b[0m\u001b[0;34m\u001b[0m\u001b[0;34m\u001b[0m\u001b[0m\n\u001b[0m\u001b[1;32m     76\u001b[0m \u001b[0;34m\u001b[0m\u001b[0m\n\u001b[1;32m     77\u001b[0m \u001b[0;34m\u001b[0m\u001b[0m\n",
      "\u001b[0;32m/usr/local/pyenvs/python3.8.9-universal/lib/python3.8/site-packages/requests/api.py\u001b[0m in \u001b[0;36mrequest\u001b[0;34m(method, url, **kwargs)\u001b[0m\n\u001b[1;32m     59\u001b[0m     \u001b[0;31m# cases, and look like a memory leak in others.\u001b[0m\u001b[0;34m\u001b[0m\u001b[0;34m\u001b[0m\u001b[0;34m\u001b[0m\u001b[0m\n\u001b[1;32m     60\u001b[0m     \u001b[0;32mwith\u001b[0m \u001b[0msessions\u001b[0m\u001b[0;34m.\u001b[0m\u001b[0mSession\u001b[0m\u001b[0;34m(\u001b[0m\u001b[0;34m)\u001b[0m \u001b[0;32mas\u001b[0m \u001b[0msession\u001b[0m\u001b[0;34m:\u001b[0m\u001b[0;34m\u001b[0m\u001b[0;34m\u001b[0m\u001b[0m\n\u001b[0;32m---> 61\u001b[0;31m         \u001b[0;32mreturn\u001b[0m \u001b[0msession\u001b[0m\u001b[0;34m.\u001b[0m\u001b[0mrequest\u001b[0m\u001b[0;34m(\u001b[0m\u001b[0mmethod\u001b[0m\u001b[0;34m=\u001b[0m\u001b[0mmethod\u001b[0m\u001b[0;34m,\u001b[0m \u001b[0murl\u001b[0m\u001b[0;34m=\u001b[0m\u001b[0murl\u001b[0m\u001b[0;34m,\u001b[0m \u001b[0;34m**\u001b[0m\u001b[0mkwargs\u001b[0m\u001b[0;34m)\u001b[0m\u001b[0;34m\u001b[0m\u001b[0;34m\u001b[0m\u001b[0m\n\u001b[0m\u001b[1;32m     62\u001b[0m \u001b[0;34m\u001b[0m\u001b[0m\n\u001b[1;32m     63\u001b[0m \u001b[0;34m\u001b[0m\u001b[0m\n",
      "\u001b[0;32m/usr/local/pyenvs/python3.8.9-universal/lib/python3.8/site-packages/requests/sessions.py\u001b[0m in \u001b[0;36mrequest\u001b[0;34m(self, method, url, params, data, headers, cookies, files, auth, timeout, allow_redirects, proxies, hooks, stream, verify, cert, json)\u001b[0m\n\u001b[1;32m    540\u001b[0m         }\n\u001b[1;32m    541\u001b[0m         \u001b[0msend_kwargs\u001b[0m\u001b[0;34m.\u001b[0m\u001b[0mupdate\u001b[0m\u001b[0;34m(\u001b[0m\u001b[0msettings\u001b[0m\u001b[0;34m)\u001b[0m\u001b[0;34m\u001b[0m\u001b[0;34m\u001b[0m\u001b[0m\n\u001b[0;32m--> 542\u001b[0;31m         \u001b[0mresp\u001b[0m \u001b[0;34m=\u001b[0m \u001b[0mself\u001b[0m\u001b[0;34m.\u001b[0m\u001b[0msend\u001b[0m\u001b[0;34m(\u001b[0m\u001b[0mprep\u001b[0m\u001b[0;34m,\u001b[0m \u001b[0;34m**\u001b[0m\u001b[0msend_kwargs\u001b[0m\u001b[0;34m)\u001b[0m\u001b[0;34m\u001b[0m\u001b[0;34m\u001b[0m\u001b[0m\n\u001b[0m\u001b[1;32m    543\u001b[0m \u001b[0;34m\u001b[0m\u001b[0m\n\u001b[1;32m    544\u001b[0m         \u001b[0;32mreturn\u001b[0m \u001b[0mresp\u001b[0m\u001b[0;34m\u001b[0m\u001b[0;34m\u001b[0m\u001b[0m\n",
      "\u001b[0;32m/usr/local/pyenvs/python3.8.9-universal/lib/python3.8/site-packages/requests/sessions.py\u001b[0m in \u001b[0;36msend\u001b[0;34m(self, request, **kwargs)\u001b[0m\n\u001b[1;32m    653\u001b[0m \u001b[0;34m\u001b[0m\u001b[0m\n\u001b[1;32m    654\u001b[0m         \u001b[0;31m# Send the request\u001b[0m\u001b[0;34m\u001b[0m\u001b[0;34m\u001b[0m\u001b[0;34m\u001b[0m\u001b[0m\n\u001b[0;32m--> 655\u001b[0;31m         \u001b[0mr\u001b[0m \u001b[0;34m=\u001b[0m \u001b[0madapter\u001b[0m\u001b[0;34m.\u001b[0m\u001b[0msend\u001b[0m\u001b[0;34m(\u001b[0m\u001b[0mrequest\u001b[0m\u001b[0;34m,\u001b[0m \u001b[0;34m**\u001b[0m\u001b[0mkwargs\u001b[0m\u001b[0;34m)\u001b[0m\u001b[0;34m\u001b[0m\u001b[0;34m\u001b[0m\u001b[0m\n\u001b[0m\u001b[1;32m    656\u001b[0m \u001b[0;34m\u001b[0m\u001b[0m\n\u001b[1;32m    657\u001b[0m         \u001b[0;31m# Total elapsed time of the request (approximately)\u001b[0m\u001b[0;34m\u001b[0m\u001b[0;34m\u001b[0m\u001b[0;34m\u001b[0m\u001b[0m\n",
      "\u001b[0;32m/usr/local/pyenvs/python3.8.9-universal/lib/python3.8/site-packages/requests/adapters.py\u001b[0m in \u001b[0;36msend\u001b[0;34m(self, request, stream, timeout, verify, cert, proxies)\u001b[0m\n\u001b[1;32m    437\u001b[0m         \u001b[0;32mtry\u001b[0m\u001b[0;34m:\u001b[0m\u001b[0;34m\u001b[0m\u001b[0;34m\u001b[0m\u001b[0m\n\u001b[1;32m    438\u001b[0m             \u001b[0;32mif\u001b[0m \u001b[0;32mnot\u001b[0m \u001b[0mchunked\u001b[0m\u001b[0;34m:\u001b[0m\u001b[0;34m\u001b[0m\u001b[0;34m\u001b[0m\u001b[0m\n\u001b[0;32m--> 439\u001b[0;31m                 resp = conn.urlopen(\n\u001b[0m\u001b[1;32m    440\u001b[0m                     \u001b[0mmethod\u001b[0m\u001b[0;34m=\u001b[0m\u001b[0mrequest\u001b[0m\u001b[0;34m.\u001b[0m\u001b[0mmethod\u001b[0m\u001b[0;34m,\u001b[0m\u001b[0;34m\u001b[0m\u001b[0;34m\u001b[0m\u001b[0m\n\u001b[1;32m    441\u001b[0m                     \u001b[0murl\u001b[0m\u001b[0;34m=\u001b[0m\u001b[0murl\u001b[0m\u001b[0;34m,\u001b[0m\u001b[0;34m\u001b[0m\u001b[0;34m\u001b[0m\u001b[0m\n",
      "\u001b[0;32m/usr/local/pyenvs/python3.8.9-universal/lib/python3.8/site-packages/urllib3/connectionpool.py\u001b[0m in \u001b[0;36murlopen\u001b[0;34m(self, method, url, body, headers, retries, redirect, assert_same_host, timeout, pool_timeout, release_conn, chunked, body_pos, **response_kw)\u001b[0m\n\u001b[1;32m    697\u001b[0m \u001b[0;34m\u001b[0m\u001b[0m\n\u001b[1;32m    698\u001b[0m             \u001b[0;31m# Make the request on the httplib connection object.\u001b[0m\u001b[0;34m\u001b[0m\u001b[0;34m\u001b[0m\u001b[0;34m\u001b[0m\u001b[0m\n\u001b[0;32m--> 699\u001b[0;31m             httplib_response = self._make_request(\n\u001b[0m\u001b[1;32m    700\u001b[0m                 \u001b[0mconn\u001b[0m\u001b[0;34m,\u001b[0m\u001b[0;34m\u001b[0m\u001b[0;34m\u001b[0m\u001b[0m\n\u001b[1;32m    701\u001b[0m                 \u001b[0mmethod\u001b[0m\u001b[0;34m,\u001b[0m\u001b[0;34m\u001b[0m\u001b[0;34m\u001b[0m\u001b[0m\n",
      "\u001b[0;32m/usr/local/pyenvs/python3.8.9-universal/lib/python3.8/site-packages/urllib3/connectionpool.py\u001b[0m in \u001b[0;36m_make_request\u001b[0;34m(self, conn, method, url, timeout, chunked, **httplib_request_kw)\u001b[0m\n\u001b[1;32m    443\u001b[0m                     \u001b[0;31m# Python 3 (including for exceptions like SystemExit).\u001b[0m\u001b[0;34m\u001b[0m\u001b[0;34m\u001b[0m\u001b[0;34m\u001b[0m\u001b[0m\n\u001b[1;32m    444\u001b[0m                     \u001b[0;31m# Otherwise it looks like a bug in the code.\u001b[0m\u001b[0;34m\u001b[0m\u001b[0;34m\u001b[0m\u001b[0;34m\u001b[0m\u001b[0m\n\u001b[0;32m--> 445\u001b[0;31m                     \u001b[0msix\u001b[0m\u001b[0;34m.\u001b[0m\u001b[0mraise_from\u001b[0m\u001b[0;34m(\u001b[0m\u001b[0me\u001b[0m\u001b[0;34m,\u001b[0m \u001b[0;32mNone\u001b[0m\u001b[0;34m)\u001b[0m\u001b[0;34m\u001b[0m\u001b[0;34m\u001b[0m\u001b[0m\n\u001b[0m\u001b[1;32m    446\u001b[0m         \u001b[0;32mexcept\u001b[0m \u001b[0;34m(\u001b[0m\u001b[0mSocketTimeout\u001b[0m\u001b[0;34m,\u001b[0m \u001b[0mBaseSSLError\u001b[0m\u001b[0;34m,\u001b[0m \u001b[0mSocketError\u001b[0m\u001b[0;34m)\u001b[0m \u001b[0;32mas\u001b[0m \u001b[0me\u001b[0m\u001b[0;34m:\u001b[0m\u001b[0;34m\u001b[0m\u001b[0;34m\u001b[0m\u001b[0m\n\u001b[1;32m    447\u001b[0m             \u001b[0mself\u001b[0m\u001b[0;34m.\u001b[0m\u001b[0m_raise_timeout\u001b[0m\u001b[0;34m(\u001b[0m\u001b[0merr\u001b[0m\u001b[0;34m=\u001b[0m\u001b[0me\u001b[0m\u001b[0;34m,\u001b[0m \u001b[0murl\u001b[0m\u001b[0;34m=\u001b[0m\u001b[0murl\u001b[0m\u001b[0;34m,\u001b[0m \u001b[0mtimeout_value\u001b[0m\u001b[0;34m=\u001b[0m\u001b[0mread_timeout\u001b[0m\u001b[0;34m)\u001b[0m\u001b[0;34m\u001b[0m\u001b[0;34m\u001b[0m\u001b[0m\n",
      "\u001b[0;32m/usr/local/pyenvs/python3.8.9-universal/lib/python3.8/site-packages/urllib3/packages/six.py\u001b[0m in \u001b[0;36mraise_from\u001b[0;34m(value, from_value)\u001b[0m\n",
      "\u001b[0;32m/usr/local/pyenvs/python3.8.9-universal/lib/python3.8/site-packages/urllib3/connectionpool.py\u001b[0m in \u001b[0;36m_make_request\u001b[0;34m(self, conn, method, url, timeout, chunked, **httplib_request_kw)\u001b[0m\n\u001b[1;32m    438\u001b[0m                 \u001b[0;31m# Python 3\u001b[0m\u001b[0;34m\u001b[0m\u001b[0;34m\u001b[0m\u001b[0;34m\u001b[0m\u001b[0m\n\u001b[1;32m    439\u001b[0m                 \u001b[0;32mtry\u001b[0m\u001b[0;34m:\u001b[0m\u001b[0;34m\u001b[0m\u001b[0;34m\u001b[0m\u001b[0m\n\u001b[0;32m--> 440\u001b[0;31m                     \u001b[0mhttplib_response\u001b[0m \u001b[0;34m=\u001b[0m \u001b[0mconn\u001b[0m\u001b[0;34m.\u001b[0m\u001b[0mgetresponse\u001b[0m\u001b[0;34m(\u001b[0m\u001b[0;34m)\u001b[0m\u001b[0;34m\u001b[0m\u001b[0;34m\u001b[0m\u001b[0m\n\u001b[0m\u001b[1;32m    441\u001b[0m                 \u001b[0;32mexcept\u001b[0m \u001b[0mBaseException\u001b[0m \u001b[0;32mas\u001b[0m \u001b[0me\u001b[0m\u001b[0;34m:\u001b[0m\u001b[0;34m\u001b[0m\u001b[0;34m\u001b[0m\u001b[0m\n\u001b[1;32m    442\u001b[0m                     \u001b[0;31m# Remove the TypeError from the exception chain in\u001b[0m\u001b[0;34m\u001b[0m\u001b[0;34m\u001b[0m\u001b[0;34m\u001b[0m\u001b[0m\n",
      "\u001b[0;32m/Library/Developer/CommandLineTools/Library/Frameworks/Python3.framework/Versions/3.8/lib/python3.8/http/client.py\u001b[0m in \u001b[0;36mgetresponse\u001b[0;34m(self)\u001b[0m\n\u001b[1;32m   1342\u001b[0m         \u001b[0;32mtry\u001b[0m\u001b[0;34m:\u001b[0m\u001b[0;34m\u001b[0m\u001b[0;34m\u001b[0m\u001b[0m\n\u001b[1;32m   1343\u001b[0m             \u001b[0;32mtry\u001b[0m\u001b[0;34m:\u001b[0m\u001b[0;34m\u001b[0m\u001b[0;34m\u001b[0m\u001b[0m\n\u001b[0;32m-> 1344\u001b[0;31m                 \u001b[0mresponse\u001b[0m\u001b[0;34m.\u001b[0m\u001b[0mbegin\u001b[0m\u001b[0;34m(\u001b[0m\u001b[0;34m)\u001b[0m\u001b[0;34m\u001b[0m\u001b[0;34m\u001b[0m\u001b[0m\n\u001b[0m\u001b[1;32m   1345\u001b[0m             \u001b[0;32mexcept\u001b[0m \u001b[0mConnectionError\u001b[0m\u001b[0;34m:\u001b[0m\u001b[0;34m\u001b[0m\u001b[0;34m\u001b[0m\u001b[0m\n\u001b[1;32m   1346\u001b[0m                 \u001b[0mself\u001b[0m\u001b[0;34m.\u001b[0m\u001b[0mclose\u001b[0m\u001b[0;34m(\u001b[0m\u001b[0;34m)\u001b[0m\u001b[0;34m\u001b[0m\u001b[0;34m\u001b[0m\u001b[0m\n",
      "\u001b[0;32m/Library/Developer/CommandLineTools/Library/Frameworks/Python3.framework/Versions/3.8/lib/python3.8/http/client.py\u001b[0m in \u001b[0;36mbegin\u001b[0;34m(self)\u001b[0m\n\u001b[1;32m    305\u001b[0m         \u001b[0;31m# read until we get a non-100 response\u001b[0m\u001b[0;34m\u001b[0m\u001b[0;34m\u001b[0m\u001b[0;34m\u001b[0m\u001b[0m\n\u001b[1;32m    306\u001b[0m         \u001b[0;32mwhile\u001b[0m \u001b[0;32mTrue\u001b[0m\u001b[0;34m:\u001b[0m\u001b[0;34m\u001b[0m\u001b[0;34m\u001b[0m\u001b[0m\n\u001b[0;32m--> 307\u001b[0;31m             \u001b[0mversion\u001b[0m\u001b[0;34m,\u001b[0m \u001b[0mstatus\u001b[0m\u001b[0;34m,\u001b[0m \u001b[0mreason\u001b[0m \u001b[0;34m=\u001b[0m \u001b[0mself\u001b[0m\u001b[0;34m.\u001b[0m\u001b[0m_read_status\u001b[0m\u001b[0;34m(\u001b[0m\u001b[0;34m)\u001b[0m\u001b[0;34m\u001b[0m\u001b[0;34m\u001b[0m\u001b[0m\n\u001b[0m\u001b[1;32m    308\u001b[0m             \u001b[0;32mif\u001b[0m \u001b[0mstatus\u001b[0m \u001b[0;34m!=\u001b[0m \u001b[0mCONTINUE\u001b[0m\u001b[0;34m:\u001b[0m\u001b[0;34m\u001b[0m\u001b[0;34m\u001b[0m\u001b[0m\n\u001b[1;32m    309\u001b[0m                 \u001b[0;32mbreak\u001b[0m\u001b[0;34m\u001b[0m\u001b[0;34m\u001b[0m\u001b[0m\n",
      "\u001b[0;32m/Library/Developer/CommandLineTools/Library/Frameworks/Python3.framework/Versions/3.8/lib/python3.8/http/client.py\u001b[0m in \u001b[0;36m_read_status\u001b[0;34m(self)\u001b[0m\n\u001b[1;32m    266\u001b[0m \u001b[0;34m\u001b[0m\u001b[0m\n\u001b[1;32m    267\u001b[0m     \u001b[0;32mdef\u001b[0m \u001b[0m_read_status\u001b[0m\u001b[0;34m(\u001b[0m\u001b[0mself\u001b[0m\u001b[0;34m)\u001b[0m\u001b[0;34m:\u001b[0m\u001b[0;34m\u001b[0m\u001b[0;34m\u001b[0m\u001b[0m\n\u001b[0;32m--> 268\u001b[0;31m         \u001b[0mline\u001b[0m \u001b[0;34m=\u001b[0m \u001b[0mstr\u001b[0m\u001b[0;34m(\u001b[0m\u001b[0mself\u001b[0m\u001b[0;34m.\u001b[0m\u001b[0mfp\u001b[0m\u001b[0;34m.\u001b[0m\u001b[0mreadline\u001b[0m\u001b[0;34m(\u001b[0m\u001b[0m_MAXLINE\u001b[0m \u001b[0;34m+\u001b[0m \u001b[0;36m1\u001b[0m\u001b[0;34m)\u001b[0m\u001b[0;34m,\u001b[0m \u001b[0;34m\"iso-8859-1\"\u001b[0m\u001b[0;34m)\u001b[0m\u001b[0;34m\u001b[0m\u001b[0;34m\u001b[0m\u001b[0m\n\u001b[0m\u001b[1;32m    269\u001b[0m         \u001b[0;32mif\u001b[0m \u001b[0mlen\u001b[0m\u001b[0;34m(\u001b[0m\u001b[0mline\u001b[0m\u001b[0;34m)\u001b[0m \u001b[0;34m>\u001b[0m \u001b[0m_MAXLINE\u001b[0m\u001b[0;34m:\u001b[0m\u001b[0;34m\u001b[0m\u001b[0;34m\u001b[0m\u001b[0m\n\u001b[1;32m    270\u001b[0m             \u001b[0;32mraise\u001b[0m \u001b[0mLineTooLong\u001b[0m\u001b[0;34m(\u001b[0m\u001b[0;34m\"status line\"\u001b[0m\u001b[0;34m)\u001b[0m\u001b[0;34m\u001b[0m\u001b[0;34m\u001b[0m\u001b[0m\n",
      "\u001b[0;32m/Library/Developer/CommandLineTools/Library/Frameworks/Python3.framework/Versions/3.8/lib/python3.8/socket.py\u001b[0m in \u001b[0;36mreadinto\u001b[0;34m(self, b)\u001b[0m\n\u001b[1;32m    667\u001b[0m         \u001b[0;32mwhile\u001b[0m \u001b[0;32mTrue\u001b[0m\u001b[0;34m:\u001b[0m\u001b[0;34m\u001b[0m\u001b[0;34m\u001b[0m\u001b[0m\n\u001b[1;32m    668\u001b[0m             \u001b[0;32mtry\u001b[0m\u001b[0;34m:\u001b[0m\u001b[0;34m\u001b[0m\u001b[0;34m\u001b[0m\u001b[0m\n\u001b[0;32m--> 669\u001b[0;31m                 \u001b[0;32mreturn\u001b[0m \u001b[0mself\u001b[0m\u001b[0;34m.\u001b[0m\u001b[0m_sock\u001b[0m\u001b[0;34m.\u001b[0m\u001b[0mrecv_into\u001b[0m\u001b[0;34m(\u001b[0m\u001b[0mb\u001b[0m\u001b[0;34m)\u001b[0m\u001b[0;34m\u001b[0m\u001b[0;34m\u001b[0m\u001b[0m\n\u001b[0m\u001b[1;32m    670\u001b[0m             \u001b[0;32mexcept\u001b[0m \u001b[0mtimeout\u001b[0m\u001b[0;34m:\u001b[0m\u001b[0;34m\u001b[0m\u001b[0;34m\u001b[0m\u001b[0m\n\u001b[1;32m    671\u001b[0m                 \u001b[0mself\u001b[0m\u001b[0;34m.\u001b[0m\u001b[0m_timeout_occurred\u001b[0m \u001b[0;34m=\u001b[0m \u001b[0;32mTrue\u001b[0m\u001b[0;34m\u001b[0m\u001b[0;34m\u001b[0m\u001b[0m\n",
      "\u001b[0;32m/Library/Developer/CommandLineTools/Library/Frameworks/Python3.framework/Versions/3.8/lib/python3.8/ssl.py\u001b[0m in \u001b[0;36mrecv_into\u001b[0;34m(self, buffer, nbytes, flags)\u001b[0m\n\u001b[1;32m   1239\u001b[0m                   \u001b[0;34m\"non-zero flags not allowed in calls to recv_into() on %s\"\u001b[0m \u001b[0;34m%\u001b[0m\u001b[0;34m\u001b[0m\u001b[0;34m\u001b[0m\u001b[0m\n\u001b[1;32m   1240\u001b[0m                   self.__class__)\n\u001b[0;32m-> 1241\u001b[0;31m             \u001b[0;32mreturn\u001b[0m \u001b[0mself\u001b[0m\u001b[0;34m.\u001b[0m\u001b[0mread\u001b[0m\u001b[0;34m(\u001b[0m\u001b[0mnbytes\u001b[0m\u001b[0;34m,\u001b[0m \u001b[0mbuffer\u001b[0m\u001b[0;34m)\u001b[0m\u001b[0;34m\u001b[0m\u001b[0;34m\u001b[0m\u001b[0m\n\u001b[0m\u001b[1;32m   1242\u001b[0m         \u001b[0;32melse\u001b[0m\u001b[0;34m:\u001b[0m\u001b[0;34m\u001b[0m\u001b[0;34m\u001b[0m\u001b[0m\n\u001b[1;32m   1243\u001b[0m             \u001b[0;32mreturn\u001b[0m \u001b[0msuper\u001b[0m\u001b[0;34m(\u001b[0m\u001b[0;34m)\u001b[0m\u001b[0;34m.\u001b[0m\u001b[0mrecv_into\u001b[0m\u001b[0;34m(\u001b[0m\u001b[0mbuffer\u001b[0m\u001b[0;34m,\u001b[0m \u001b[0mnbytes\u001b[0m\u001b[0;34m,\u001b[0m \u001b[0mflags\u001b[0m\u001b[0;34m)\u001b[0m\u001b[0;34m\u001b[0m\u001b[0;34m\u001b[0m\u001b[0m\n",
      "\u001b[0;32m/Library/Developer/CommandLineTools/Library/Frameworks/Python3.framework/Versions/3.8/lib/python3.8/ssl.py\u001b[0m in \u001b[0;36mread\u001b[0;34m(self, len, buffer)\u001b[0m\n\u001b[1;32m   1097\u001b[0m         \u001b[0;32mtry\u001b[0m\u001b[0;34m:\u001b[0m\u001b[0;34m\u001b[0m\u001b[0;34m\u001b[0m\u001b[0m\n\u001b[1;32m   1098\u001b[0m             \u001b[0;32mif\u001b[0m \u001b[0mbuffer\u001b[0m \u001b[0;32mis\u001b[0m \u001b[0;32mnot\u001b[0m \u001b[0;32mNone\u001b[0m\u001b[0;34m:\u001b[0m\u001b[0;34m\u001b[0m\u001b[0;34m\u001b[0m\u001b[0m\n\u001b[0;32m-> 1099\u001b[0;31m                 \u001b[0;32mreturn\u001b[0m \u001b[0mself\u001b[0m\u001b[0;34m.\u001b[0m\u001b[0m_sslobj\u001b[0m\u001b[0;34m.\u001b[0m\u001b[0mread\u001b[0m\u001b[0;34m(\u001b[0m\u001b[0mlen\u001b[0m\u001b[0;34m,\u001b[0m \u001b[0mbuffer\u001b[0m\u001b[0;34m)\u001b[0m\u001b[0;34m\u001b[0m\u001b[0;34m\u001b[0m\u001b[0m\n\u001b[0m\u001b[1;32m   1100\u001b[0m             \u001b[0;32melse\u001b[0m\u001b[0;34m:\u001b[0m\u001b[0;34m\u001b[0m\u001b[0;34m\u001b[0m\u001b[0m\n\u001b[1;32m   1101\u001b[0m                 \u001b[0;32mreturn\u001b[0m \u001b[0mself\u001b[0m\u001b[0;34m.\u001b[0m\u001b[0m_sslobj\u001b[0m\u001b[0;34m.\u001b[0m\u001b[0mread\u001b[0m\u001b[0;34m(\u001b[0m\u001b[0mlen\u001b[0m\u001b[0;34m)\u001b[0m\u001b[0;34m\u001b[0m\u001b[0;34m\u001b[0m\u001b[0m\n",
      "\u001b[0;31mKeyboardInterrupt\u001b[0m: "
     ]
    }
   ],
   "source": [
    "init_pos = None  # 车辆初始位置\n",
    "altitude = 0.0  # 高程\n",
    "pre_gnss = None  # 上一时刻GNSS\n",
    "pred_loc = None\n",
    "next_position = None\n",
    "gt_gnss_unit_list = []\n",
    "\n",
    "sec_cnt = 0\n",
    "\n",
    "do_reload()\n",
    "while True:\n",
    "    s = do_state()\n",
    "    if s['trialts'] == 0.0:\n",
    "        print('testing start...')\n",
    "        try:\n",
    "            lat, lng, altitude = [float(x) for x in s['pos'].split(',')]\n",
    "        except ValueError as e:\n",
    "            lat, lng, altitude = [float(x) for x in s['pos'].split(';')]\n",
    "        init_pos = [lng, lat]\n",
    "    elif s['trialts'] < 0:\n",
    "        print('testing timeout...')\n",
    "        break\n",
    "    else:\n",
    "        pass\n",
    "    \n",
    "    if next_position is None:\n",
    "        r = requests.get(server + trialname + '/nextdata?horizon=1.0')\n",
    "    else:\n",
    "        r = requests.get(server + trialname + \\\n",
    "                         '/nextdata?horizon=1.0&position=%s;%.1f' % (next_position, altitude))\n",
    "    \n",
    "    acc_unit_list, gy_unit_list, gnss_unit = parse_response(r.text)\n",
    "    \n",
    "    if gnss_unit is None:\n",
    "        print(len(acc_unit_list))\n",
    "        print(len(gy_unit_list))\n",
    "        \n",
    "    if gnss_unit is not None:\n",
    "        gt_gnss_unit_list.append(gnss_unit)\n",
    "        \n",
    "    if len(acc_unit_list) < 10 and gnss_unit is None:\n",
    "        if pre_gnss is not None:\n",
    "            lng, lat, spd, brng = pre_gnss.lng, pre_gnss.lat, pre_gnss.loc_speed, pre_gnss.bearing\n",
    "            if spd < 0:\n",
    "                spd = pre_gnss.speed\n",
    "            next_lng, next_lat, \\\n",
    "            next_spd, next_brng = estimate_next_loc_by_dft(lng, lat, spd, brng)\n",
    "            next_position = '%.6f;%.6f' % (next_lat, next_lng)\n",
    "            pred_loc = [next_lng, next_lat, next_spd, next_brng]\n",
    "        elif pred_loc is not None:\n",
    "            next_lng, next_lat, \\\n",
    "            next_spd, next_brng = estimate_next_loc_by_dft(pred_loc[0], pred_loc[1], \n",
    "                                                           pred_loc[2], pred_loc[3])\n",
    "            next_position = '%.6f;%.6f' % (next_lat, next_lng)\n",
    "            pred_loc = [next_lng, next_lat, next_spd, next_brng]\n",
    "        else:\n",
    "            pass\n",
    "        time.sleep(0.01)\n",
    "        sec_cnt += 1\n",
    "        continue\n",
    "    \n",
    "    if gnss_unit is not None:\n",
    "        gnss_unit.pre_gnss = pre_gnss\n",
    "        pre_gnss = gnss_unit\n",
    "        next_position = '%.6f;%.6f' % (gnss_unit.lat, gnss_unit.lng)\n",
    "    elif pre_gnss is not None:\n",
    "        next_lng, next_lat, \\\n",
    "        next_spd, next_brng = estimate_next_loc(acc_unit_list, gy_unit_list, pre_gnss, \n",
    "                                                model=model, ftr_gen=ftr_gen, \n",
    "                                                ftr_hz=ftr_hz, collect_hz=collect_hz)\n",
    "        next_position = '%.6f;%.6f' % (next_lat, next_lng)\n",
    "        pred_loc = [next_lng, next_lat, next_spd, next_brng]\n",
    "        pre_gnss = None\n",
    "    elif pred_loc is not None:\n",
    "        next_lng, next_lat, \\\n",
    "        next_spd, next_brng = estimate_next_loc_by_pred(acc_unit_list, gy_unit_list, pred_loc, \n",
    "                                                        model=model, ftr_gen=ftr_gen, \n",
    "                                                        ftr_hz=ftr_hz, collect_hz=collect_hz)\n",
    "        next_position = '%.6f;%.6f' % (next_lat, next_lng)\n",
    "        pred_loc = [next_lng, next_lat, next_spd, next_brng]\n",
    "    else:\n",
    "        pass\n",
    "        \n",
    "    time.sleep(0.01)\n",
    "    sec_cnt += 1\n",
    "#     if sec_cnt == 2500:\n",
    "#         break"
   ]
  },
  {
   "cell_type": "code",
   "execution_count": 39,
   "id": "9289f4db",
   "metadata": {},
   "outputs": [],
   "source": [
    "# est_fd = open('./ScoringResult01.csv', 'w')\n",
    "\n",
    "# r = requests.get(server + trialname + '/estimates')\n",
    "# for i, line in enumerate(r.text.splitlines()):\n",
    "#     if i == 0:\n",
    "#         continue\n",
    "#     s = parse(estfmt, line)\n",
    "#     ts = int(s.named['pts'])\n",
    "#     lat, lng, altitude = [float(x) for x in s.named['pos'].split(';')]\n",
    "#     est_fd.write('%d,%.6f,%.6f,%.1f\\n' % (ts, lat, lng, altitude))"
   ]
  },
  {
   "cell_type": "code",
   "execution_count": 40,
   "id": "e322650f",
   "metadata": {},
   "outputs": [
    {
     "name": "stdout",
     "output_type": "stream",
     "text": [
      "114\n"
     ]
    }
   ],
   "source": [
    "r = requests.get(server + trialname + '/estimates')\n",
    "print(len(r.text.splitlines()))"
   ]
  },
  {
   "cell_type": "code",
   "execution_count": 41,
   "id": "88f6efed",
   "metadata": {},
   "outputs": [],
   "source": [
    "# print(r.text)"
   ]
  },
  {
   "cell_type": "code",
   "execution_count": null,
   "id": "a14caf7d",
   "metadata": {},
   "outputs": [],
   "source": []
  },
  {
   "cell_type": "markdown",
   "id": "888f82b2",
   "metadata": {},
   "source": [
    "## 评估"
   ]
  },
  {
   "cell_type": "code",
   "execution_count": 42,
   "id": "009f8711",
   "metadata": {
    "scrolled": true
   },
   "outputs": [],
   "source": [
    "ts_estimate_loc_map = {}\n",
    "\n",
    "r = requests.get(server + trialname + '/estimates')\n",
    "for i, line in enumerate(r.text.splitlines()):\n",
    "    if i in {0, 1}:\n",
    "        continue\n",
    "    _items = line.strip().split(',')\n",
    "    ts = int(float(_items[0]))\n",
    "    loc_str = _items[-1]\n",
    "    lat, lng = float(loc_str.split(';')[0]), float(loc_str.split(';')[1])\n",
    "    lng, lat = geo_util.wgs84_to_gcj02(lng, lat)\n",
    "    ts_estimate_loc_map[ts] = [lng, lat]\n",
    "    \n",
    "ts_list = sorted(ts_estimate_loc_map.keys(), reverse=False)\n",
    "with open('offline_estimate.csv', 'w') as fd:\n",
    "    fd.write('ts,lng,lat\\n')\n",
    "    for i, ts in enumerate(ts_list):\n",
    "        lng, lat = ts_estimate_loc_map[ts]\n",
    "        if i > 0:\n",
    "            ts = ts - ts_list[0]\n",
    "        fd.write('%d,%.6f,%.6f\\n' % (ts, lng, lat))"
   ]
  },
  {
   "cell_type": "code",
   "execution_count": 43,
   "id": "1016a99b",
   "metadata": {},
   "outputs": [],
   "source": [
    "ts_gnss_loc_map = {}\n",
    "\n",
    "for i, gnss in enumerate(gt_gnss_unit_list):\n",
    "    ts = int(round(gnss.app_ts, 0))\n",
    "    lng, lat = gnss.lng_gcj02, gnss.lat_gcj02\n",
    "    ts_gnss_loc_map[ts] = [lng, lat]\n",
    "    \n",
    "ts_list = sorted(ts_gnss_loc_map.keys(), reverse=False)\n",
    "with open('offline_gnss.csv', 'w') as fd:\n",
    "    fd.write('ts,lng,lat\\n')\n",
    "    for i, ts in enumerate(ts_list):\n",
    "        lng, lat = ts_gnss_loc_map[ts]\n",
    "        if i > 0:\n",
    "            ts = ts - ts_list[0]\n",
    "        fd.write('%d,%.6f,%.6f\\n' % (ts, lng, lat))"
   ]
  },
  {
   "cell_type": "code",
   "execution_count": 44,
   "id": "557bc639",
   "metadata": {},
   "outputs": [
    {
     "data": {
      "text/plain": [
       "109"
      ]
     },
     "execution_count": 44,
     "metadata": {},
     "output_type": "execute_result"
    }
   ],
   "source": [
    "len(ts_gnss_loc_map)"
   ]
  },
  {
   "cell_type": "code",
   "execution_count": 45,
   "id": "7617eada",
   "metadata": {},
   "outputs": [],
   "source": [
    "dist_err_list = []\n",
    "\n",
    "for ts, (lng, lat) in ts_estimate_loc_map.items():\n",
    "    if ts not in ts_gnss_loc_map and ts + 1 in ts_gnss_loc_map:\n",
    "        dist_err = geo_util.distance(lng, lat, \n",
    "                                     ts_gnss_loc_map[ts + 1][0], ts_gnss_loc_map[ts + 1][1])\n",
    "        dist_err_list.append(dist_err)"
   ]
  },
  {
   "cell_type": "code",
   "execution_count": 47,
   "id": "25a81965",
   "metadata": {},
   "outputs": [
    {
     "name": "stdout",
     "output_type": "stream",
     "text": [
      "0.679057\n",
      "1.358114\n",
      "2.6646455\n"
     ]
    }
   ],
   "source": [
    "print(np.percentile(dist_err_list, 25))\n",
    "print(np.percentile(dist_err_list, 50))\n",
    "print(np.percentile(dist_err_list, 75))"
   ]
  },
  {
   "cell_type": "code",
   "execution_count": 46,
   "id": "d903eb4c",
   "metadata": {},
   "outputs": [
    {
     "data": {
      "text/plain": [
       "[3.971177, 1.358114, 0.0]"
      ]
     },
     "execution_count": 46,
     "metadata": {},
     "output_type": "execute_result"
    }
   ],
   "source": [
    "dist_err_list"
   ]
  },
  {
   "cell_type": "code",
   "execution_count": null,
   "id": "43def0a4",
   "metadata": {},
   "outputs": [],
   "source": []
  },
  {
   "cell_type": "code",
   "execution_count": null,
   "id": "fcf61a5d",
   "metadata": {},
   "outputs": [],
   "source": []
  },
  {
   "cell_type": "code",
   "execution_count": null,
   "id": "0e09ffe3",
   "metadata": {},
   "outputs": [],
   "source": []
  },
  {
   "cell_type": "code",
   "execution_count": null,
   "id": "531c9c0e",
   "metadata": {},
   "outputs": [],
   "source": []
  }
 ],
 "metadata": {
  "kernelspec": {
   "display_name": "Python 3 (ipykernel)",
   "language": "python",
   "name": "python3"
  },
  "language_info": {
   "codemirror_mode": {
    "name": "ipython",
    "version": 3
   },
   "file_extension": ".py",
   "mimetype": "text/x-python",
   "name": "python",
   "nbconvert_exporter": "python",
   "pygments_lexer": "ipython3",
   "version": "3.8.9"
  },
  "toc": {
   "base_numbering": 1,
   "nav_menu": {},
   "number_sections": true,
   "sideBar": true,
   "skip_h1_title": false,
   "title_cell": "Table of Contents",
   "title_sidebar": "Contents",
   "toc_cell": false,
   "toc_position": {},
   "toc_section_display": true,
   "toc_window_display": false
  }
 },
 "nbformat": 4,
 "nbformat_minor": 5
}
