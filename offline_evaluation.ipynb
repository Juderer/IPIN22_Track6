{
 "cells": [
  {
   "cell_type": "markdown",
   "id": "3acae92b",
   "metadata": {},
   "source": [
    "- DOING\n",
    "    - 使用`./trial`目录下的txt文件模拟流程（可以按GNSS时间戳判断是否缺数据）\n",
    "    - 使用提供的**trialname**测试\n",
    "        - `T62288821d9d01`\n",
    "        - `T62288821d9d02`"
   ]
  },
  {
   "cell_type": "code",
   "execution_count": 1,
   "id": "af355f77",
   "metadata": {},
   "outputs": [],
   "source": [
    "import requests\n",
    "import numpy as np\n",
    "import torch\n",
    "import time\n",
    "import copy\n",
    "from parse import parse\n",
    "\n",
    "from spd_dnn import *\n",
    "from data_struct import *\n",
    "from ftr_generator import *\n",
    "from coord_utils import *\n"
   ]
  },
  {
   "cell_type": "markdown",
   "id": "5525b6ee",
   "metadata": {},
   "source": [
    "# 算法流程"
   ]
  },
  {
   "cell_type": "markdown",
   "id": "d51a5e8e",
   "metadata": {},
   "source": [
    "## 航向推算"
   ]
  },
  {
   "cell_type": "code",
   "execution_count": 2,
   "id": "50705a46",
   "metadata": {},
   "outputs": [],
   "source": [
    "def infer_bearing(sec_gyro_unit_list, crnt_brng, collect_hz=250):\n",
    "    gy_ys = [u.sen_y for u in sec_gyro_unit_list]\n",
    "    bearing_diff = np.sum(gy_ys) / collect_hz * -1.0\n",
    "    return (crnt_brng + bearing_diff) % 360.0"
   ]
  },
  {
   "cell_type": "markdown",
   "id": "ae2825eb",
   "metadata": {},
   "source": [
    "## 速度推算"
   ]
  },
  {
   "cell_type": "code",
   "execution_count": 3,
   "id": "0c731580",
   "metadata": {},
   "outputs": [
    {
     "name": "stdout",
     "output_type": "stream",
     "text": [
      "Load trained model: ./spd_dnn_weight_ftrHz25.pt\n"
     ]
    }
   ],
   "source": [
    "ftr_hz = 25\n",
    "collect_hz = 250\n",
    "\n",
    "model = load_spd_dnn(trained_model='./spd_dnn_weight_ftrHz%d.pt' % ftr_hz,\n",
    "                     ftr_hz=ftr_hz, collect_hz=collect_hz)\n",
    "model.eval()\n",
    "\n",
    "ftr_gen = ftrGenerator(ftr_hz=ftr_hz, collect_hz=collect_hz)"
   ]
  },
  {
   "cell_type": "code",
   "execution_count": 4,
   "id": "647d4cd1",
   "metadata": {},
   "outputs": [],
   "source": [
    "def calibrate_sample_freq(imu_unit_list, collect_hz=250):\n",
    "    if len(imu_unit_list) < collect_hz:\n",
    "        imu_unit_list.extend([copy.deepcopy(imu_unit_list[-1])] * (collect_hz - len(imu_unit_list)))\n",
    "    elif len(imu_unit_list) > collect_hz:\n",
    "        imu_unit_list = imu_unit_list[-collect_hz:]\n",
    "    else:\n",
    "        pass\n",
    "    return imu_unit_list\n",
    "\n",
    "\n",
    "def infer_speed(sec_acc_unit_list, sec_gyro_unit_list, crnt_spd,\n",
    "                model=None, ftr_gen=None, collect_hz=250):\n",
    "    sec_acc_unit_list = calibrate_sample_freq(sec_acc_unit_list, collect_hz=collect_hz)\n",
    "    sec_gyro_unit_lis = calibrate_sample_freq(sec_gyro_unit_list, collect_hz=collect_hz)\n",
    "    acc_ftr_list = ftr_gen.calc_imu_sec_ftr(sec_acc_unit_list)\n",
    "    gy_ftr_list = ftr_gen.calc_imu_sec_ftr(sec_gyro_unit_lis)\n",
    "\n",
    "    acc = torch.tensor([[acc_ftr_list]], dtype=torch.float).permute(0, 2, 1)\n",
    "    gy = torch.tensor([[gy_ftr_list]], dtype=torch.float).permute(0, 2, 1)\n",
    "    init_spd = torch.tensor([[[crnt_spd]]], dtype=torch.float)\n",
    "    pred = model(acc, gy, init_spd=init_spd)\n",
    "    spd_diff = pred.cpu().detach().squeeze().numpy().tolist()\n",
    "\n",
    "    return max(0.0, min(33.0, crnt_spd + spd_diff))"
   ]
  },
  {
   "cell_type": "markdown",
   "id": "fcda793e",
   "metadata": {},
   "source": [
    "# 服务端配置及请求"
   ]
  },
  {
   "cell_type": "markdown",
   "id": "321e9304",
   "metadata": {},
   "source": [
    "- 正式比赛配置"
   ]
  },
  {
   "cell_type": "code",
   "execution_count": 5,
   "id": "708c9faf",
   "metadata": {},
   "outputs": [],
   "source": [
    "server = 'https://evaal.aaloa.org/evaalapi/'\n",
    "trialname = 'S622team708_02'\n",
    "\n",
    "estfmt = \"{pts:.3f},{c:.3f},{h:.3f},{s:.3f},{pos}\"\n",
    "statefmt = \"{trialts:.3f},{rem:.3f},{V:.3f},{S:.3f},{p:.3f},{h:.3f},{pts:.3f},{pos}\""
   ]
  },
  {
   "cell_type": "markdown",
   "id": "0e752e15",
   "metadata": {},
   "source": [
    "- 使用官方服务器测试"
   ]
  },
  {
   "cell_type": "code",
   "execution_count": 6,
   "id": "a76ad497",
   "metadata": {},
   "outputs": [],
   "source": [
    "# server = 'https://evaal.aaloa.org/evaalapi/'\n",
    "# trialname = 'T62288821d9d01'\n",
    "\n",
    "# estfmt = \"{pts:.3f},{c:.3f},{h:.3f},{s:.3f},{pos}\"\n",
    "# statefmt = \"{trialts:.3f},{rem:.3f},{V:.3f},{S:.3f},{p:.3f},{h:.3f},{pts:.3f},{pos}\""
   ]
  },
  {
   "cell_type": "markdown",
   "id": "f4ce60a1",
   "metadata": {},
   "source": [
    "- 使用本地服务器测试"
   ]
  },
  {
   "cell_type": "code",
   "execution_count": 7,
   "id": "3c44cd8b",
   "metadata": {},
   "outputs": [],
   "source": [
    "# server = 'http://127.0.0.1:5000/evaalapi/'\n",
    "# trialname = 'demo2'\n",
    "\n",
    "# estfmt = \"{pts:.3f},{c:.3f},{h:.3f},{s:.3f},{pos}\"\n",
    "# statefmt = \"{trialts:.3f},{rem:.3f},{V:.3f},{S:.3f},{p:.3f},{h:.3f},{pts:.3f},{pos}\""
   ]
  },
  {
   "cell_type": "code",
   "execution_count": 8,
   "id": "26ad2e1a",
   "metadata": {},
   "outputs": [],
   "source": [
    "def do_state():\n",
    "    r = requests.get(server + trialname + '/state')\n",
    "    print(r.text)\n",
    "    s = parse(statefmt, r.text)\n",
    "    return s.named\n",
    "    \n",
    "    \n",
    "def do_reload():\n",
    "    r = requests.get(server + trialname + '/reload')\n",
    "    s = parse(statefmt, r.text)\n",
    "    print(s.named)"
   ]
  },
  {
   "cell_type": "code",
   "execution_count": 9,
   "id": "f68022fe",
   "metadata": {},
   "outputs": [],
   "source": [
    "def parse_response(text):\n",
    "    sen_str_list = text.splitlines()\n",
    "    acc_unit_list, gy_unit_list = [], []\n",
    "    gnss_unit = None\n",
    "    for sen_str in sen_str_list:\n",
    "        if sen_str.startswith('ACCE'):\n",
    "            acc_unit_list.append(acceUnit(sen_str))\n",
    "        elif sen_str.startswith('GYRO'):\n",
    "            gy_unit_list.append(gyroUnit(sen_str))\n",
    "        elif sen_str.startswith('GNSS'):\n",
    "            gnss_unit = gnssUnit(sen_str)\n",
    "        else:\n",
    "            continue\n",
    "    return acc_unit_list, gy_unit_list, gnss_unit\n",
    "\n",
    "\n",
    "def estimate_next_loc(acc_unit_list, gy_unit_list, gnss_unit, \n",
    "                      model=None, ftr_gen=None, ftr_hz=50, collect_hz=250):\n",
    "    crnt_brng = gnss_unit.bearing\n",
    "    crnt_spd = gnss_unit.loc_speed\n",
    "    if crnt_spd < 0:\n",
    "        crnt_spd = gnss_unit.speed\n",
    "    \n",
    "    next_brng = infer_bearing(gy_unit_list, crnt_brng, collect_hz=collect_hz)\n",
    "    next_spd = infer_speed(acc_unit_list, gy_unit_list, crnt_spd, \n",
    "                           model=model, ftr_gen=ftr_gen, collect_hz=collect_hz)\n",
    "    \n",
    "    next_lng, next_lat = geo_util.position_from_angle_and_dist(gnss_unit.lng, gnss_unit.lat, \n",
    "                                                               next_brng, next_spd)\n",
    "    return next_lng, next_lat, next_spd, next_brng\n",
    "\n",
    "\n",
    "def estimate_next_loc_by_pred(acc_unit_list, gy_unit_list, pred_loc, \n",
    "                              model=None, ftr_gen=None, ftr_hz=25, collect_hz=250):\n",
    "    crnt_lng, crnt_lat, crnt_spd, crnt_brng = pred_loc\n",
    "    next_brng = infer_bearing(gy_unit_list, crnt_brng, collect_hz=collect_hz)\n",
    "    next_spd = infer_speed(acc_unit_list, gy_unit_list, crnt_spd, \n",
    "                           model=model, ftr_gen=ftr_gen, collect_hz=collect_hz)\n",
    "    next_lng, next_lat = geo_util.position_from_angle_and_dist(crnt_lng, crnt_lat, \n",
    "                                                               next_brng, next_spd)\n",
    "    return next_lng, next_lat, next_spd, next_brng\n",
    "    \n",
    "    \n",
    "def estimate_next_loc_by_dft(crnt_lng, crnt_lat, crnt_spd, crnt_brng):\n",
    "    next_brng, next_spd = crnt_brng, crnt_spd\n",
    "    next_lng, next_lat = geo_util.position_from_angle_and_dist(crnt_lng, crnt_lat, \n",
    "                                                               next_brng, next_spd)\n",
    "    return next_lng, next_lat, next_spd, next_brng\n",
    "    "
   ]
  },
  {
   "cell_type": "code",
   "execution_count": 10,
   "id": "08a01953",
   "metadata": {},
   "outputs": [],
   "source": [
    "# do_reload()"
   ]
  },
  {
   "cell_type": "code",
   "execution_count": 11,
   "id": "b9075843",
   "metadata": {},
   "outputs": [],
   "source": [
    "# s = do_state()\n",
    "# print(s)"
   ]
  },
  {
   "cell_type": "code",
   "execution_count": 10,
   "id": "3574f31b",
   "metadata": {},
   "outputs": [],
   "source": [
    "# r = requests.get(server + trialname + '/estimates')\n",
    "# print(r.text)"
   ]
  },
  {
   "cell_type": "code",
   "execution_count": 11,
   "id": "32ef0742",
   "metadata": {
    "scrolled": false
   },
   "outputs": [],
   "source": [
    "# r = requests.get(server + trialname + '/nextdata?horizon=1.0&position=0,0,0')\n",
    "# print(r.text)\n",
    "\n",
    "# r = requests.get(server + trialname + '/log')\n",
    "# print(r.text)"
   ]
  },
  {
   "cell_type": "code",
   "execution_count": null,
   "id": "3fef44ae",
   "metadata": {},
   "outputs": [],
   "source": []
  },
  {
   "cell_type": "code",
   "execution_count": 15,
   "id": "f18cab9f",
   "metadata": {
    "scrolled": true
   },
   "outputs": [
    {
     "name": "stdout",
     "output_type": "stream",
     "text": [
      "-1.000,-338.390,9.000,45.000,1662123281.621,1.000,116.303,40.093923,116.283254,0.0\n",
      "testing timeout...\n"
     ]
    }
   ],
   "source": [
    "init_pos = None  # 车辆初始位置\n",
    "altitude = 0.0  # 高程\n",
    "pre_gnss = None  # 上一时刻GNSS\n",
    "pred_loc = None\n",
    "next_position = None\n",
    "gt_gnss_unit_list = []\n",
    "\n",
    "sec_cnt = 0\n",
    "request_arr = []\n",
    "\n",
    "# do_reload()  # 正式比赛需要注释\n",
    "while True:\n",
    "    s = do_state()\n",
    "    if s['trialts'] == 0.0:\n",
    "        print('testing start...')\n",
    "        try:\n",
    "            lat, lng, altitude = [float(x) for x in s['pos'].split(',')]\n",
    "        except ValueError as e:\n",
    "            lat, lng, altitude = [float(x) for x in s['pos'].split(';')]\n",
    "        init_pos = [lng, lat]\n",
    "    elif s['trialts'] < 0:\n",
    "        print('testing timeout...')\n",
    "        break\n",
    "    else:\n",
    "        pass\n",
    "    \n",
    "    if next_position is None:\n",
    "        r = requests.get(server + trialname + '/nextdata?horizon=1.0')\n",
    "    else:\n",
    "        r = requests.get(server + trialname + \\\n",
    "                         '/nextdata?horizon=1.0&position=%s,%.1f' % (next_position, altitude))\n",
    "    \n",
    "    acc_unit_list, gy_unit_list, gnss_unit = parse_response(r.text)\n",
    "    \n",
    "#     request_arr.append(r.text.splitlines())\n",
    "    if gnss_unit is None:\n",
    "        print(len(acc_unit_list))\n",
    "        print(len(gy_unit_list))\n",
    "        \n",
    "    if gnss_unit is not None:\n",
    "        gt_gnss_unit_list.append(gnss_unit)\n",
    "        \n",
    "    if len(acc_unit_list) < 10 and gnss_unit is None:\n",
    "        if pre_gnss is not None:\n",
    "            lng, lat, spd, brng = pre_gnss.lng, pre_gnss.lat, pre_gnss.loc_speed, pre_gnss.bearing\n",
    "            if spd < 0:\n",
    "                spd = pre_gnss.speed\n",
    "            next_lng, next_lat, \\\n",
    "            next_spd, next_brng = estimate_next_loc_by_dft(lng, lat, spd, brng)\n",
    "            next_position = '%.6f,%.6f' % (next_lat, next_lng)\n",
    "            pred_loc = [next_lng, next_lat, next_spd, next_brng]\n",
    "        elif pred_loc is not None:\n",
    "            next_lng, next_lat, \\\n",
    "            next_spd, next_brng = estimate_next_loc_by_dft(pred_loc[0], pred_loc[1], \n",
    "                                                           pred_loc[2], pred_loc[3])\n",
    "            next_position = '%.6f,%.6f' % (next_lat, next_lng)\n",
    "            pred_loc = [next_lng, next_lat, next_spd, next_brng]\n",
    "        else:\n",
    "            pass\n",
    "        time.sleep(1.001)\n",
    "        sec_cnt += 1\n",
    "        continue\n",
    "    \n",
    "    if gnss_unit is not None:\n",
    "        gnss_unit.pre_gnss = pre_gnss\n",
    "        pre_gnss = gnss_unit\n",
    "        next_position = '%.6f,%.6f' % (gnss_unit.lat, gnss_unit.lng)\n",
    "    elif pre_gnss is not None:\n",
    "        next_lng, next_lat, \\\n",
    "        next_spd, next_brng = estimate_next_loc(acc_unit_list, gy_unit_list, pre_gnss, \n",
    "                                                model=model, ftr_gen=ftr_gen, \n",
    "                                                ftr_hz=ftr_hz, collect_hz=collect_hz)\n",
    "        next_position = '%.6f,%.6f' % (next_lat, next_lng)\n",
    "        pred_loc = [next_lng, next_lat, next_spd, next_brng]\n",
    "        pre_gnss = None\n",
    "    elif pred_loc is not None:\n",
    "        next_lng, next_lat, \\\n",
    "        next_spd, next_brng = estimate_next_loc_by_pred(acc_unit_list, gy_unit_list, pred_loc, \n",
    "                                                        model=model, ftr_gen=ftr_gen, \n",
    "                                                        ftr_hz=ftr_hz, collect_hz=collect_hz)\n",
    "        next_position = '%.6f,%.6f' % (next_lat, next_lng)\n",
    "        pred_loc = [next_lng, next_lat, next_spd, next_brng]\n",
    "    else:\n",
    "        pass\n",
    "        \n",
    "    time.sleep(1.001)\n",
    "    sec_cnt += 1\n",
    "#     if sec_cnt == 2500:\n",
    "#         break"
   ]
  },
  {
   "cell_type": "code",
   "execution_count": 18,
   "id": "9289f4db",
   "metadata": {},
   "outputs": [],
   "source": [
    "est_fd = open('./ScoringResult02.csv', 'w')\n",
    "\n",
    "r = requests.get(server + trialname + '/estimates')\n",
    "for i, line in enumerate(r.text.splitlines()):\n",
    "    if i == 0:\n",
    "        continue\n",
    "    s = parse(estfmt, line)\n",
    "    ts = int(s.named['pts'])\n",
    "    lat, lng, altitude = [float(x) for x in s.named['pos'].split(',')]\n",
    "    est_fd.write('%d,%.6f,%.6f,%.1f\\n' % (ts, lat, lng, altitude))"
   ]
  },
  {
   "cell_type": "code",
   "execution_count": 19,
   "id": "e322650f",
   "metadata": {},
   "outputs": [
    {
     "name": "stdout",
     "output_type": "stream",
     "text": [
      "4979\n"
     ]
    }
   ],
   "source": [
    "r = requests.get(server + trialname + '/estimates')\n",
    "print(len(r.text.splitlines()))"
   ]
  },
  {
   "cell_type": "code",
   "execution_count": 20,
   "id": "88f6efed",
   "metadata": {},
   "outputs": [
    {
     "name": "stdout",
     "output_type": "stream",
     "text": [
      "{'pts': 5001.518, 'c': 1662121141.554, 'h': 1.0, 's': 45.0, 'pos': '40.094209,116.282839,0.0'}\n"
     ]
    }
   ],
   "source": [
    "print(parse(estfmt, r.text.splitlines()[-1]).named)"
   ]
  },
  {
   "cell_type": "code",
   "execution_count": null,
   "id": "a14caf7d",
   "metadata": {},
   "outputs": [],
   "source": []
  },
  {
   "cell_type": "markdown",
   "id": "888f82b2",
   "metadata": {},
   "source": [
    "## 评估"
   ]
  },
  {
   "cell_type": "code",
   "execution_count": 21,
   "id": "009f8711",
   "metadata": {
    "scrolled": true
   },
   "outputs": [],
   "source": [
    "ts_estimate_loc_map = {}\n",
    "\n",
    "r = requests.get(server + trialname + '/estimates')\n",
    "for i, line in enumerate(r.text.splitlines()):\n",
    "    if i in {0, 1}:\n",
    "        continue\n",
    "    s = parse(estfmt, line)\n",
    "    ts = int(float(s.named['pts']))\n",
    "    loc_str = s.named['pos']\n",
    "    lat, lng = float(loc_str.split(',')[0]), float(loc_str.split(',')[1])\n",
    "    lng, lat = geo_util.wgs84_to_gcj02(lng, lat)\n",
    "    ts_estimate_loc_map[ts] = [lng, lat]\n",
    "    \n",
    "ts_list = sorted(ts_estimate_loc_map.keys(), reverse=False)\n",
    "with open('offline_estimate.csv', 'w') as fd:\n",
    "    fd.write('ts,lng,lat\\n')\n",
    "    for i, ts in enumerate(ts_list):\n",
    "        lng, lat = ts_estimate_loc_map[ts]\n",
    "        if i > 0:\n",
    "            ts = ts - ts_list[0]\n",
    "        fd.write('%d,%.6f,%.6f\\n' % (ts, lng, lat))"
   ]
  },
  {
   "cell_type": "code",
   "execution_count": 22,
   "id": "1016a99b",
   "metadata": {},
   "outputs": [],
   "source": [
    "ts_gnss_loc_map = {}\n",
    "\n",
    "for i, gnss in enumerate(gt_gnss_unit_list):\n",
    "    ts = int(round(gnss.app_ts, 0))\n",
    "    lng, lat = gnss.lng_gcj02, gnss.lat_gcj02\n",
    "    ts_gnss_loc_map[ts] = [lng, lat]\n",
    "    \n",
    "ts_list = sorted(ts_gnss_loc_map.keys(), reverse=False)\n",
    "with open('offline_gnss.csv', 'w') as fd:\n",
    "    fd.write('ts,lng,lat\\n')\n",
    "    for i, ts in enumerate(ts_list):\n",
    "        lng, lat = ts_gnss_loc_map[ts]\n",
    "        if i > 0:\n",
    "            ts = ts - ts_list[0]\n",
    "        fd.write('%d,%.6f,%.6f\\n' % (ts, lng, lat))"
   ]
  },
  {
   "cell_type": "code",
   "execution_count": 23,
   "id": "557bc639",
   "metadata": {},
   "outputs": [
    {
     "data": {
      "text/plain": [
       "3642"
      ]
     },
     "execution_count": 23,
     "metadata": {},
     "output_type": "execute_result"
    }
   ],
   "source": [
    "len(ts_gnss_loc_map)"
   ]
  },
  {
   "cell_type": "code",
   "execution_count": 24,
   "id": "7617eada",
   "metadata": {},
   "outputs": [],
   "source": [
    "dist_err_list = []\n",
    "\n",
    "for ts, (lng, lat) in ts_estimate_loc_map.items():\n",
    "    if ts not in ts_gnss_loc_map and ts + 1 in ts_gnss_loc_map:\n",
    "        dist_err = geo_util.distance(lng, lat, \n",
    "                                     ts_gnss_loc_map[ts + 1][0], ts_gnss_loc_map[ts + 1][1])\n",
    "        dist_err_list.append(dist_err)"
   ]
  },
  {
   "cell_type": "code",
   "execution_count": 25,
   "id": "25a81965",
   "metadata": {},
   "outputs": [
    {
     "name": "stdout",
     "output_type": "stream",
     "text": [
      "9.39333925\n",
      "14.1145405\n",
      "29.604348\n"
     ]
    }
   ],
   "source": [
    "print(np.percentile(dist_err_list, 25))\n",
    "print(np.percentile(dist_err_list, 50))\n",
    "print(np.percentile(dist_err_list, 75))"
   ]
  },
  {
   "cell_type": "code",
   "execution_count": 27,
   "id": "d903eb4c",
   "metadata": {},
   "outputs": [
    {
     "data": {
      "text/plain": [
       "[0.783204,\n",
       " 7.565693,\n",
       " 11.24752,\n",
       " 15.515795,\n",
       " 12.713286,\n",
       " 9.542579,\n",
       " 22.544692,\n",
       " 84.965147,\n",
       " 12.418362,\n",
       " 133.85211,\n",
       " 18.113812,\n",
       " 119.167889,\n",
       " 18.11654,\n",
       " 0.9869,\n",
       " 8.94562,\n",
       " 50.783316]"
      ]
     },
     "execution_count": 27,
     "metadata": {},
     "output_type": "execute_result"
    }
   ],
   "source": [
    "dist_err_list"
   ]
  },
  {
   "cell_type": "code",
   "execution_count": null,
   "id": "43def0a4",
   "metadata": {},
   "outputs": [],
   "source": []
  },
  {
   "cell_type": "code",
   "execution_count": null,
   "id": "fcf61a5d",
   "metadata": {},
   "outputs": [],
   "source": []
  },
  {
   "cell_type": "code",
   "execution_count": null,
   "id": "0e09ffe3",
   "metadata": {},
   "outputs": [],
   "source": []
  },
  {
   "cell_type": "code",
   "execution_count": null,
   "id": "531c9c0e",
   "metadata": {},
   "outputs": [],
   "source": []
  }
 ],
 "metadata": {
  "kernelspec": {
   "display_name": "Python 3 (ipykernel)",
   "language": "python",
   "name": "python3"
  },
  "language_info": {
   "codemirror_mode": {
    "name": "ipython",
    "version": 3
   },
   "file_extension": ".py",
   "mimetype": "text/x-python",
   "name": "python",
   "nbconvert_exporter": "python",
   "pygments_lexer": "ipython3",
   "version": "3.8.9"
  },
  "toc": {
   "base_numbering": 1,
   "nav_menu": {},
   "number_sections": true,
   "sideBar": true,
   "skip_h1_title": false,
   "title_cell": "Table of Contents",
   "title_sidebar": "Contents",
   "toc_cell": false,
   "toc_position": {},
   "toc_section_display": true,
   "toc_window_display": false
  }
 },
 "nbformat": 4,
 "nbformat_minor": 5
}
